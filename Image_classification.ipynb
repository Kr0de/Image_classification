{
  "cells": [
    {
      "cell_type": "markdown",
      "metadata": {
        "id": "EcK4MxOQcrC1"
      },
      "source": [
        "###Preprocessing"
      ]
    },
    {
      "cell_type": "code",
      "execution_count": 1,
      "metadata": {
        "colab": {
          "base_uri": "https://localhost:8080/"
        },
        "id": "WWgcwKwCLBfr",
        "outputId": "739f425d-15ca-4e07-86a1-7c08e26038bb"
      },
      "outputs": [
        {
          "name": "stdout",
          "output_type": "stream",
          "text": [
            "CUDA is available!  Training on GPU ...\n"
          ]
        },
        {
          "name": "stderr",
          "output_type": "stream",
          "text": [
            "<ipython-input-1-f0d6e98e3862>:13: TqdmExperimentalWarning: Using `tqdm.autonotebook.tqdm` in notebook mode. Use `tqdm.tqdm` instead to force console mode (e.g. in jupyter console)\n",
            "  from tqdm.autonotebook import tqdm, trange\n"
          ]
        }
      ],
      "source": [
        "import torch\n",
        "import numpy as np\n",
        "import pandas as pd\n",
        "\n",
        "train_on_gpu = torch.cuda.is_available()\n",
        "\n",
        "if not train_on_gpu:\n",
        "    print('CUDA is not available.  Training on CPU ...')\n",
        "else:\n",
        "    print('CUDA is available!  Training on GPU ...')\n",
        "\n",
        "import os\n",
        "from tqdm.autonotebook import tqdm, trange\n",
        "\n",
        "import torch.nn as nn\n",
        "import torch.optim as optim\n",
        "from torch.optim import lr_scheduler\n",
        "\n",
        "import torchvision\n",
        "from torchvision import datasets, models, transforms\n",
        "import time\n",
        "\n",
        "import pickle\n",
        "from skimage import io\n",
        "\n",
        "from tqdm import tqdm, tqdm_notebook\n",
        "from PIL import Image\n",
        "from pathlib import Path\n",
        "\n",
        "from torchvision import transforms\n",
        "from multiprocessing.pool import ThreadPool\n",
        "from sklearn.preprocessing import LabelEncoder\n",
        "from torch.utils.data import Dataset, DataLoader\n",
        "import torch.nn as nn\n",
        "from torch.nn import functional as F\n",
        "\n",
        "from matplotlib import colors, pyplot as plt\n",
        "%matplotlib inline\n",
        "\n",
        "import warnings\n",
        "warnings.filterwarnings(action='ignore', category=DeprecationWarning)"
      ]
    },
    {
      "cell_type": "code",
      "execution_count": 2,
      "metadata": {
        "colab": {
          "base_uri": "https://localhost:8080/"
        },
        "id": "MXno2OSeLF3e",
        "outputId": "ea7013ec-dd85-4ff9-e12f-6a2fcb2c90dc"
      },
      "outputs": [
        {
          "name": "stdout",
          "output_type": "stream",
          "text": [
            "9.4.0\n"
          ]
        }
      ],
      "source": [
        "import PIL\n",
        "print(PIL.__version__)"
      ]
    },
    {
      "cell_type": "code",
      "execution_count": 3,
      "metadata": {
        "colab": {
          "base_uri": "https://localhost:8080/"
        },
        "id": "xA3o2xC3MlMI",
        "outputId": "99c059d8-debc-45d8-b0a1-eb73eff0487c"
      },
      "outputs": [
        {
          "name": "stdout",
          "output_type": "stream",
          "text": [
            "Mounted at /content/gdrive/\n"
          ]
        }
      ],
      "source": [
        "from google.colab import drive\n",
        "drive.mount('/content/gdrive/')"
      ]
    },
    {
      "cell_type": "code",
      "execution_count": 4,
      "metadata": {
        "id": "sxZ5llqziJ8k"
      },
      "outputs": [],
      "source": [
        "!unzip -q /content/gdrive/MyDrive/journey-springfield.zip"
      ]
    },
    {
      "cell_type": "code",
      "execution_count": 5,
      "metadata": {
        "colab": {
          "base_uri": "https://localhost:8080/"
        },
        "id": "D2dg3IHMMo-s",
        "outputId": "43d634cb-9da1-4c15-a9df-2afac75de436"
      },
      "outputs": [
        {
          "name": "stdout",
          "output_type": "stream",
          "text": [
            "simpsons_dataset\n"
          ]
        }
      ],
      "source": [
        "!ls train"
      ]
    },
    {
      "cell_type": "code",
      "execution_count": 6,
      "metadata": {
        "colab": {
          "base_uri": "https://localhost:8080/"
        },
        "id": "GvWhlkiRMxih",
        "outputId": "ea92b821-067e-4715-d2fd-7e0c05d299ca"
      },
      "outputs": [
        {
          "name": "stdout",
          "output_type": "stream",
          "text": [
            "Sun Nov 19 19:00:42 2023       \n",
            "+-----------------------------------------------------------------------------+\n",
            "| NVIDIA-SMI 525.105.17   Driver Version: 525.105.17   CUDA Version: 12.0     |\n",
            "|-------------------------------+----------------------+----------------------+\n",
            "| GPU  Name        Persistence-M| Bus-Id        Disp.A | Volatile Uncorr. ECC |\n",
            "| Fan  Temp  Perf  Pwr:Usage/Cap|         Memory-Usage | GPU-Util  Compute M. |\n",
            "|                               |                      |               MIG M. |\n",
            "|===============================+======================+======================|\n",
            "|   0  Tesla T4            Off  | 00000000:00:04.0 Off |                    0 |\n",
            "| N/A   37C    P8     9W /  70W |      3MiB / 15360MiB |      0%      Default |\n",
            "|                               |                      |                  N/A |\n",
            "+-------------------------------+----------------------+----------------------+\n",
            "                                                                               \n",
            "+-----------------------------------------------------------------------------+\n",
            "| Processes:                                                                  |\n",
            "|  GPU   GI   CI        PID   Type   Process name                  GPU Memory |\n",
            "|        ID   ID                                                   Usage      |\n",
            "|=============================================================================|\n",
            "|  No running processes found                                                 |\n",
            "+-----------------------------------------------------------------------------+\n"
          ]
        },
        {
          "data": {
            "text/plain": [
              "True"
            ]
          },
          "execution_count": 6,
          "metadata": {},
          "output_type": "execute_result"
        }
      ],
      "source": [
        "!nvidia-smi\n",
        "torch.cuda.is_available()"
      ]
    },
    {
      "cell_type": "code",
      "execution_count": 7,
      "metadata": {
        "id": "WTdzMtgJP15N"
      },
      "outputs": [],
      "source": [
        "# разные режимы датасета\n",
        "DATA_MODES = ['train', 'val', 'test']\n",
        "# все изображения будут масштабированы к размеру 224x224 px\n",
        "RESCALE_SIZE = 224\n",
        "# работаем на видеокарте\n",
        "DEVICE = torch.device(\"cuda\")"
      ]
    },
    {
      "cell_type": "code",
      "execution_count": 8,
      "metadata": {
        "id": "cj32U5iTQUe4"
      },
      "outputs": [],
      "source": [
        "class SimpsonsDataset(Dataset):\n",
        "    \"\"\"\n",
        "    Датасет с картинками, который паралельно подгружает их из папок\n",
        "    производит скалирование и превращение в торчевые тензоры\n",
        "    \"\"\"\n",
        "    def __init__(self, files, mode):\n",
        "        super().__init__()\n",
        "        # список файлов для загрузки\n",
        "        self.files = sorted(files)\n",
        "        # режим работы\n",
        "        self.mode = mode\n",
        "\n",
        "        if self.mode not in DATA_MODES:\n",
        "            print(f\"{self.mode} is not correct; correct modes: {DATA_MODES}\")\n",
        "            raise NameError\n",
        "\n",
        "        self.len_ = len(self.files)\n",
        "\n",
        "        self.label_encoder = LabelEncoder()\n",
        "\n",
        "        if self.mode != 'test':\n",
        "            self.labels = [path.parent.name for path in self.files]\n",
        "            self.label_encoder.fit(self.labels)\n",
        "\n",
        "            with open('label_encoder.pkl', 'wb') as le_dump_file:\n",
        "                  pickle.dump(self.label_encoder, le_dump_file)\n",
        "\n",
        "    def __len__(self):\n",
        "        return self.len_\n",
        "\n",
        "    def load_sample(self, file):\n",
        "        image = Image.open(file)\n",
        "        image.load()\n",
        "        return image\n",
        "\n",
        "    def __getitem__(self, index):\n",
        "        # для преобразования изображений в тензоры PyTorch и нормализации входа\n",
        "        transform = transforms.Compose([\n",
        "            transforms.ToTensor(),\n",
        "            transforms.Normalize([0.485, 0.456, 0.406], [0.229, 0.224, 0.225])\n",
        "        ])\n",
        "        x = self.load_sample(self.files[index])\n",
        "        x = self._prepare_sample(x)\n",
        "        x = np.array(x / 255, dtype='float32')\n",
        "        x = transform(x)\n",
        "        if self.mode == 'test':\n",
        "            return x\n",
        "        else:\n",
        "            label = self.labels[index]\n",
        "            label_id = self.label_encoder.transform([label])\n",
        "            y = label_id.item()\n",
        "            return x, y\n",
        "\n",
        "    def _prepare_sample(self, image):\n",
        "        image = image.resize((RESCALE_SIZE, RESCALE_SIZE))\n",
        "        return np.array(image)"
      ]
    },
    {
      "cell_type": "code",
      "execution_count": 9,
      "metadata": {
        "id": "j_odtTEzcaWH"
      },
      "outputs": [],
      "source": [
        "def imshow(inp, title=None, plt_ax=plt, default=False):\n",
        "    \"\"\"Imshow для тензоров\"\"\"\n",
        "    inp = inp.numpy().transpose((1, 2, 0))\n",
        "    mean = np.array([0.485, 0.456, 0.406])\n",
        "    std = np.array([0.229, 0.224, 0.225])\n",
        "    inp = std * inp + mean\n",
        "    inp = np.clip(inp, 0, 1)\n",
        "    plt_ax.imshow(inp)\n",
        "    if title is not None:\n",
        "        plt_ax.set_title(title)\n",
        "    plt_ax.grid(False)"
      ]
    },
    {
      "cell_type": "code",
      "execution_count": 10,
      "metadata": {
        "id": "QXyvJfT5jY-A"
      },
      "outputs": [],
      "source": [
        "#директории с тренировочными и тестовыми файлами\n",
        "TRAIN_DIR = Path('./train/')\n",
        "TEST_DIR = Path('./testset')"
      ]
    },
    {
      "cell_type": "code",
      "execution_count": 11,
      "metadata": {
        "id": "yUhzOq1zRJil"
      },
      "outputs": [],
      "source": [
        "#список путей до картинок для train and test\n",
        "train_val_files = sorted(list(TRAIN_DIR.rglob('*.jpg')))\n",
        "test_files = sorted(list(TEST_DIR.rglob('*.jpg')))"
      ]
    },
    {
      "cell_type": "code",
      "execution_count": 12,
      "metadata": {
        "id": "TmPhhKKlRyCF"
      },
      "outputs": [],
      "source": [
        "from sklearn.model_selection import train_test_split\n",
        "\n",
        "#формирование класса к каждой картинке\n",
        "train_val_labels = [path.parent.name for path in train_val_files]\n",
        "#два списка путей\n",
        "train_files, val_files = train_test_split(train_val_files, test_size=0.25, \\\n",
        "                                          stratify=train_val_labels)"
      ]
    },
    {
      "cell_type": "code",
      "execution_count": 13,
      "metadata": {
        "id": "aAimOLjSQGTh"
      },
      "outputs": [],
      "source": [
        "val_dataset = SimpsonsDataset(val_files, mode='val')\n",
        "# fig, ax = plt.subplots(nrows=3, ncols=3,figsize=(8, 8), \\\n",
        "#                         sharey=True, sharex=True)\n",
        "# for fig_x in ax.flatten():\n",
        "#     random_characters = int(np.random.uniform(0,1000))\n",
        "#     im_val, label = val_dataset[random_characters]\n",
        "#     img_label = \" \".join(map(lambda x: x.capitalize(),\\\n",
        "#                 val_dataset.label_encoder.inverse_transform([label])[0].split('_')))\n",
        "#     imshow(im_val.data.cpu(), \\\n",
        "#           title=img_label,plt_ax=fig_x)"
      ]
    },
    {
      "cell_type": "markdown",
      "metadata": {
        "id": "u6YcZk8vQR47"
      },
      "source": [
        "### Задание train и predict\n",
        "\n",
        "Размерность входа: 3x224x224\n",
        "\n"
      ]
    },
    {
      "cell_type": "code",
      "execution_count": 14,
      "metadata": {
        "id": "-W6ljCxnEIfM"
      },
      "outputs": [],
      "source": [
        "def train_model(model, criterion, optimizer, scheduler, epochs, train_loader, val_loader):\n",
        "    since = time.time()\n",
        "\n",
        "    best_model_wts = model.state_dict()\n",
        "    best_acc = 0.0\n",
        "\n",
        "    losses = {'train': [], \"val\": []}\n",
        "    pbar = trange(epochs, desc=\"Epoch:\")\n",
        "\n",
        "    for epoch in pbar:\n",
        "\n",
        "        for phase in ['train', 'val']:\n",
        "            if phase == 'train':\n",
        "              scheduler.step()\n",
        "              model.train(True)\n",
        "              dataloaders = train_loader\n",
        "            else:\n",
        "              model.eval()\n",
        "              dataloaders = val_loader\n",
        "\n",
        "            running_loss = 0.0\n",
        "            running_corrects = 0\n",
        "\n",
        "            for data in dataloaders:\n",
        "\n",
        "                inputs, labels = data\n",
        "\n",
        "                if train_on_gpu:\n",
        "                  inputs = inputs.cuda()\n",
        "                  labels = labels.cuda()\n",
        "                else:\n",
        "                  inputs, labels = inputs, labels\n",
        "\n",
        "                if phase==\"train\":\n",
        "                    optimizer.zero_grad()\n",
        "                if phase == \"eval\":\n",
        "                    with torch.no_grad():\n",
        "                        outputs = model(inputs)\n",
        "                else:\n",
        "                    outputs = model(inputs)\n",
        "                preds = torch.argmax(outputs, -1)\n",
        "                loss = criterion(outputs, labels)\n",
        "\n",
        "                # backward pass + оптимизируем только если это стадия обучения\n",
        "                if phase == 'train':\n",
        "                    loss.backward()\n",
        "                    optimizer.step()\n",
        "\n",
        "                # статистика\n",
        "                running_loss += loss.item()\n",
        "                running_corrects += int(torch.sum(preds == labels.data))\n",
        "\n",
        "            epoch_loss = running_loss / 64\n",
        "            epoch_acc = running_corrects / 64\n",
        "            losses[phase].append(epoch_loss)\n",
        "            # pbar.set_description('{} Loss: {:.4f} Acc: {:.4f}'.format(\n",
        "            #                         phase, epoch_loss, epoch_acc\n",
        "            #                     ))\n",
        "\n",
        "            if phase == 'val' and epoch_acc > best_acc:\n",
        "                best_acc = epoch_acc\n",
        "                best_model_wts = model.state_dict()\n",
        "\n",
        "    time_elapsed = time.time() - since\n",
        "    print('Training complete in {:.0f}m {:.0f}s'.format(\n",
        "        time_elapsed // 60, time_elapsed % 60))\n",
        "    print('Best val Acc: {:4f}'.format(best_acc))\n",
        "\n",
        "    # загрузим лучшие веса модели\n",
        "    model.load_state_dict(best_model_wts)\n",
        "    return model, losses"
      ]
    },
    {
      "cell_type": "code",
      "execution_count": 15,
      "metadata": {
        "id": "v6G7qbYqcUpL"
      },
      "outputs": [],
      "source": [
        "def predict(model, test_loader):\n",
        "    with torch.no_grad():\n",
        "        logits = []\n",
        "\n",
        "        for inputs in test_loader:\n",
        "            inputs = inputs.to(DEVICE)\n",
        "            model.eval()\n",
        "            outputs = model(inputs).cpu()\n",
        "            logits.append(outputs)\n",
        "\n",
        "    probs = nn.functional.softmax(torch.cat(logits), dim=-1).numpy()\n",
        "    return probs"
      ]
    },
    {
      "cell_type": "markdown",
      "metadata": {
        "id": "FPGWXY5T83JG"
      },
      "source": [
        "##VGG"
      ]
    },
    {
      "cell_type": "code",
      "execution_count": 16,
      "metadata": {
        "colab": {
          "base_uri": "https://localhost:8080/"
        },
        "id": "FK8JzwIo85Ge",
        "outputId": "87ee05c2-6dae-4296-d55b-1d7ab65e7968"
      },
      "outputs": [
        {
          "name": "stderr",
          "output_type": "stream",
          "text": [
            "/usr/local/lib/python3.10/dist-packages/torchvision/models/_utils.py:208: UserWarning: The parameter 'pretrained' is deprecated since 0.13 and may be removed in the future, please use 'weights' instead.\n",
            "  warnings.warn(\n",
            "/usr/local/lib/python3.10/dist-packages/torchvision/models/_utils.py:223: UserWarning: Arguments other than a weight enum or `None` for 'weights' are deprecated since 0.13 and may be removed in the future. The current behavior is equivalent to passing `weights=VGG11_Weights.IMAGENET1K_V1`. You can also use `weights=VGG11_Weights.DEFAULT` to get the most up-to-date weights.\n",
            "  warnings.warn(msg)\n",
            "Downloading: \"https://download.pytorch.org/models/vgg11-8a719046.pth\" to /root/.cache/torch/hub/checkpoints/vgg11-8a719046.pth\n",
            "100%|██████████| 507M/507M [00:06<00:00, 87.3MB/s]\n",
            "/usr/local/lib/python3.10/dist-packages/torchvision/models/_utils.py:223: UserWarning: Arguments other than a weight enum or `None` for 'weights' are deprecated since 0.13 and may be removed in the future. The current behavior is equivalent to passing `weights=VGG13_Weights.IMAGENET1K_V1`. You can also use `weights=VGG13_Weights.DEFAULT` to get the most up-to-date weights.\n",
            "  warnings.warn(msg)\n",
            "Downloading: \"https://download.pytorch.org/models/vgg13-19584684.pth\" to /root/.cache/torch/hub/checkpoints/vgg13-19584684.pth\n",
            "100%|██████████| 508M/508M [00:17<00:00, 31.3MB/s]\n"
          ]
        }
      ],
      "source": [
        "from torchvision import models\n",
        "model11 = models.vgg11(pretrained=True)\n",
        "model13 = models.vgg13(pretrained=True)\n"
      ]
    },
    {
      "cell_type": "markdown",
      "metadata": {
        "id": "qekwrPdH9Il5"
      },
      "source": [
        "###VGG11"
      ]
    },
    {
      "cell_type": "code",
      "execution_count": 17,
      "metadata": {
        "colab": {
          "base_uri": "https://localhost:8080/"
        },
        "id": "Xbg5sTz79MZI",
        "outputId": "55e44f6b-f0a1-438a-e52c-854a1005b737"
      },
      "outputs": [
        {
          "data": {
            "text/plain": [
              "VGG(\n",
              "  (features): Sequential(\n",
              "    (0): Conv2d(3, 64, kernel_size=(3, 3), stride=(1, 1), padding=(1, 1))\n",
              "    (1): ReLU(inplace=True)\n",
              "    (2): MaxPool2d(kernel_size=2, stride=2, padding=0, dilation=1, ceil_mode=False)\n",
              "    (3): Conv2d(64, 128, kernel_size=(3, 3), stride=(1, 1), padding=(1, 1))\n",
              "    (4): ReLU(inplace=True)\n",
              "    (5): MaxPool2d(kernel_size=2, stride=2, padding=0, dilation=1, ceil_mode=False)\n",
              "    (6): Conv2d(128, 256, kernel_size=(3, 3), stride=(1, 1), padding=(1, 1))\n",
              "    (7): ReLU(inplace=True)\n",
              "    (8): Conv2d(256, 256, kernel_size=(3, 3), stride=(1, 1), padding=(1, 1))\n",
              "    (9): ReLU(inplace=True)\n",
              "    (10): MaxPool2d(kernel_size=2, stride=2, padding=0, dilation=1, ceil_mode=False)\n",
              "    (11): Conv2d(256, 512, kernel_size=(3, 3), stride=(1, 1), padding=(1, 1))\n",
              "    (12): ReLU(inplace=True)\n",
              "    (13): Conv2d(512, 512, kernel_size=(3, 3), stride=(1, 1), padding=(1, 1))\n",
              "    (14): ReLU(inplace=True)\n",
              "    (15): MaxPool2d(kernel_size=2, stride=2, padding=0, dilation=1, ceil_mode=False)\n",
              "    (16): Conv2d(512, 512, kernel_size=(3, 3), stride=(1, 1), padding=(1, 1))\n",
              "    (17): ReLU(inplace=True)\n",
              "    (18): Conv2d(512, 512, kernel_size=(3, 3), stride=(1, 1), padding=(1, 1))\n",
              "    (19): ReLU(inplace=True)\n",
              "    (20): MaxPool2d(kernel_size=2, stride=2, padding=0, dilation=1, ceil_mode=False)\n",
              "  )\n",
              "  (avgpool): AdaptiveAvgPool2d(output_size=(7, 7))\n",
              "  (classifier): Sequential(\n",
              "    (0): Linear(in_features=25088, out_features=4096, bias=True)\n",
              "    (1): ReLU(inplace=True)\n",
              "    (2): Dropout(p=0.5, inplace=False)\n",
              "    (3): Linear(in_features=4096, out_features=4096, bias=True)\n",
              "    (4): ReLU(inplace=True)\n",
              "    (5): Dropout(p=0.5, inplace=False)\n",
              "    (6): Linear(in_features=4096, out_features=1000, bias=True)\n",
              "  )\n",
              ")"
            ]
          },
          "execution_count": 17,
          "metadata": {},
          "output_type": "execute_result"
        }
      ],
      "source": [
        "model11"
      ]
    },
    {
      "cell_type": "code",
      "execution_count": null,
      "metadata": {
        "colab": {
          "base_uri": "https://localhost:8080/",
          "height": 104,
          "referenced_widgets": [
            "c020fe4acce246dc888e53f7d1905666",
            "a48360e786474e05810ee0088d2d42cf",
            "bfdebe4f9bdc4811bbad18523d10633c",
            "81528a8b2e434408aa7a2841062e6539",
            "343590cb4f644db2a3bb59c8dac9e619",
            "86febb8d303a4f108badd75474403de5",
            "6adb443f0cfb48579dbc2bbbd4fb3b18",
            "daacfd7e2f7342a7a2c83e4e7dbc275a",
            "2c244622606440f29b3b7ad9d76083cd",
            "047d717c6aad4be4878c60c21f775b88",
            "b3e80f05aa9847ccbd8c461d15005cb1"
          ]
        },
        "id": "sES734W19ZZH",
        "outputId": "d7d16a27-948e-4d00-c756-e0c7e2033141"
      },
      "outputs": [
        {
          "data": {
            "application/vnd.jupyter.widget-view+json": {
              "model_id": "c020fe4acce246dc888e53f7d1905666",
              "version_major": 2,
              "version_minor": 0
            },
            "text/plain": [
              "Epoch::   0%|          | 0/20 [00:00<?, ?it/s]"
            ]
          },
          "metadata": {},
          "output_type": "display_data"
        },
        {
          "name": "stderr",
          "output_type": "stream",
          "text": [
            "/usr/local/lib/python3.10/dist-packages/torch/optim/lr_scheduler.py:136: UserWarning: Detected call of `lr_scheduler.step()` before `optimizer.step()`. In PyTorch 1.1.0 and later, you should call them in the opposite order: `optimizer.step()` before `lr_scheduler.step()`.  Failure to do this will result in PyTorch skipping the first value of the learning rate schedule. See more details at https://pytorch.org/docs/stable/optim.html#how-to-adjust-learning-rate\n",
            "  warnings.warn(\"Detected call of `lr_scheduler.step()` before `optimizer.step()`. \"\n"
          ]
        }
      ],
      "source": [
        "model11.classifier[6] = nn.Linear(4096, 42)\n",
        "  # Использовать ли GPU\n",
        "if train_on_gpu:\n",
        "    model11 = model11.cuda()\n",
        "\n",
        "# В качестве cost function используем кросс-энтропию\n",
        "loss_fn = nn.CrossEntropyLoss()\n",
        "\n",
        "# В качестве оптимизатора - стохастический градиентный спуск\n",
        "optimizer_ft = torch.optim.Adam(model11.parameters(), lr=1e-4)\n",
        "\n",
        "# Умножает learning_rate на 0.1 каждые 7 эпох (это одна из эвристик, не было на лекциях)\n",
        "exp_lr_scheduler = torch.optim.lr_scheduler.StepLR(optimizer_ft, step_size=7, gamma=0.1)\n",
        "\n",
        "if val_dataset is None:\n",
        "    val_dataset = SimpsonsDataset(val_files, mode='val')\n",
        "\n",
        "train_dataset = SimpsonsDataset(train_files, mode='train')\n",
        "train_loader = DataLoader(train_dataset, batch_size=64, shuffle=True)\n",
        "val_loader = DataLoader(val_dataset, batch_size=64, shuffle=False)\n",
        "\n",
        "model11, losses = train_model(model11, loss_fn, optimizer_ft, exp_lr_scheduler, epochs=20, train_loader = train_loader, val_loader = val_loader)"
      ]
    },
    {
      "cell_type": "code",
      "execution_count": null,
      "metadata": {
        "colab": {
          "base_uri": "https://localhost:8080/",
          "height": 245
        },
        "id": "D9-A7cte9ZZX",
        "outputId": "3ba7f454-fd62-460c-ea5d-786058966af9"
      },
      "outputs": [
        {
          "ename": "NameError",
          "evalue": "ignored",
          "output_type": "error",
          "traceback": [
            "\u001b[0;31m---------------------------------------------------------------------------\u001b[0m",
            "\u001b[0;31mNameError\u001b[0m                                 Traceback (most recent call last)",
            "\u001b[0;32m<ipython-input-1-0020e28b948d>\u001b[0m in \u001b[0;36m<cell line: 1>\u001b[0;34m()\u001b[0m\n\u001b[0;32m----> 1\u001b[0;31m \u001b[0mplt\u001b[0m\u001b[0;34m.\u001b[0m\u001b[0mfigure\u001b[0m\u001b[0;34m(\u001b[0m\u001b[0mfigsize\u001b[0m\u001b[0;34m=\u001b[0m\u001b[0;34m(\u001b[0m\u001b[0;36m8\u001b[0m\u001b[0;34m,\u001b[0m\u001b[0;36m5\u001b[0m\u001b[0;34m)\u001b[0m\u001b[0;34m)\u001b[0m\u001b[0;34m\u001b[0m\u001b[0;34m\u001b[0m\u001b[0m\n\u001b[0m\u001b[1;32m      2\u001b[0m \u001b[0mplt\u001b[0m\u001b[0;34m.\u001b[0m\u001b[0mplot\u001b[0m\u001b[0;34m(\u001b[0m\u001b[0mlosses\u001b[0m\u001b[0;34m[\u001b[0m\u001b[0;34m'train'\u001b[0m\u001b[0;34m]\u001b[0m\u001b[0;34m,\u001b[0m \u001b[0mlabel\u001b[0m\u001b[0;34m=\u001b[0m\u001b[0;34m'train'\u001b[0m\u001b[0;34m)\u001b[0m\u001b[0;34m\u001b[0m\u001b[0;34m\u001b[0m\u001b[0m\n\u001b[1;32m      3\u001b[0m \u001b[0mplt\u001b[0m\u001b[0;34m.\u001b[0m\u001b[0mplot\u001b[0m\u001b[0;34m(\u001b[0m\u001b[0mlosses\u001b[0m\u001b[0;34m[\u001b[0m\u001b[0;34m'val'\u001b[0m\u001b[0;34m]\u001b[0m\u001b[0;34m,\u001b[0m \u001b[0mlabel\u001b[0m\u001b[0;34m=\u001b[0m\u001b[0;34m'val'\u001b[0m\u001b[0;34m)\u001b[0m\u001b[0;34m\u001b[0m\u001b[0;34m\u001b[0m\u001b[0m\n\u001b[1;32m      4\u001b[0m \u001b[0mplt\u001b[0m\u001b[0;34m.\u001b[0m\u001b[0mlegend\u001b[0m\u001b[0;34m(\u001b[0m\u001b[0;34m)\u001b[0m\u001b[0;34m\u001b[0m\u001b[0;34m\u001b[0m\u001b[0m\n\u001b[1;32m      5\u001b[0m \u001b[0mplt\u001b[0m\u001b[0;34m.\u001b[0m\u001b[0mshow\u001b[0m\u001b[0;34m(\u001b[0m\u001b[0;34m)\u001b[0m\u001b[0;34m\u001b[0m\u001b[0;34m\u001b[0m\u001b[0m\n",
            "\u001b[0;31mNameError\u001b[0m: name 'plt' is not defined"
          ]
        }
      ],
      "source": [
        "plt.figure(figsize=(8,5))\n",
        "plt.plot(losses['train'], label='train')\n",
        "plt.plot(losses['val'], label='val')\n",
        "plt.legend()\n",
        "plt.show()"
      ]
    },
    {
      "cell_type": "code",
      "execution_count": null,
      "metadata": {
        "id": "QEQtIlGm9ZZY"
      },
      "outputs": [],
      "source": [
        "idxs = list(map(int, np.random.uniform(0,1000, 20)))\n",
        "imgs = [val_dataset[id][0].unsqueeze(0) for id in idxs]\n",
        "probs_ims = predict(model11, imgs)\n",
        "\n",
        "label_encoder = pickle.load(open(\"label_encoder.pkl\", 'rb'))\n",
        "\n",
        "y_pred = np.argmax(probs_ims,-1)\n",
        "\n",
        "actual_labels = [val_dataset[id][1] for id in idxs]\n",
        "\n",
        "from sklearn.metrics import f1_score\n",
        "f1 = f1_score(actual_labels, y_pred, average='micro')\n",
        "\n",
        "print(\"F1-оценка:\", f1)"
      ]
    },
    {
      "cell_type": "code",
      "execution_count": null,
      "metadata": {
        "id": "eSLzRCtf9ZZY"
      },
      "outputs": [],
      "source": [
        "label_encoder = pickle.load(open(\"label_encoder.pkl\", 'rb'))\n",
        "test_dataset = SimpsonsDataset(test_files, mode=\"test\")\n",
        "test_loader = DataLoader(test_dataset, shuffle=False, batch_size=64)\n",
        "probs = predict(model11, test_loader)\n",
        "\n",
        "preds = label_encoder.inverse_transform(np.argmax(probs, axis=1))\n",
        "test_filenames = [path.name for path in test_dataset.files]\n",
        "\n",
        "my_submit = pd.DataFrame({'Id': test_filenames, 'Expected': preds})"
      ]
    },
    {
      "cell_type": "code",
      "execution_count": null,
      "metadata": {
        "id": "Os6zequJ9ZZY"
      },
      "outputs": [],
      "source": [
        "my_submit.to_csv('VGG11_baseline.csv', index=False)"
      ]
    },
    {
      "cell_type": "markdown",
      "metadata": {
        "id": "gtF-EYxF9rw8"
      },
      "source": [
        "![image.png](data:image/png;base64,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)"
      ]
    },
    {
      "cell_type": "markdown",
      "metadata": {
        "id": "gpoYrdJA9nDg"
      },
      "source": [
        "###VGG13"
      ]
    },
    {
      "cell_type": "code",
      "execution_count": 18,
      "metadata": {
        "colab": {
          "base_uri": "https://localhost:8080/"
        },
        "id": "M79dg1fs9p2r",
        "outputId": "6cf2eac7-04f8-4901-8a42-87e563092fbc"
      },
      "outputs": [
        {
          "data": {
            "text/plain": [
              "VGG(\n",
              "  (features): Sequential(\n",
              "    (0): Conv2d(3, 64, kernel_size=(3, 3), stride=(1, 1), padding=(1, 1))\n",
              "    (1): ReLU(inplace=True)\n",
              "    (2): Conv2d(64, 64, kernel_size=(3, 3), stride=(1, 1), padding=(1, 1))\n",
              "    (3): ReLU(inplace=True)\n",
              "    (4): MaxPool2d(kernel_size=2, stride=2, padding=0, dilation=1, ceil_mode=False)\n",
              "    (5): Conv2d(64, 128, kernel_size=(3, 3), stride=(1, 1), padding=(1, 1))\n",
              "    (6): ReLU(inplace=True)\n",
              "    (7): Conv2d(128, 128, kernel_size=(3, 3), stride=(1, 1), padding=(1, 1))\n",
              "    (8): ReLU(inplace=True)\n",
              "    (9): MaxPool2d(kernel_size=2, stride=2, padding=0, dilation=1, ceil_mode=False)\n",
              "    (10): Conv2d(128, 256, kernel_size=(3, 3), stride=(1, 1), padding=(1, 1))\n",
              "    (11): ReLU(inplace=True)\n",
              "    (12): Conv2d(256, 256, kernel_size=(3, 3), stride=(1, 1), padding=(1, 1))\n",
              "    (13): ReLU(inplace=True)\n",
              "    (14): MaxPool2d(kernel_size=2, stride=2, padding=0, dilation=1, ceil_mode=False)\n",
              "    (15): Conv2d(256, 512, kernel_size=(3, 3), stride=(1, 1), padding=(1, 1))\n",
              "    (16): ReLU(inplace=True)\n",
              "    (17): Conv2d(512, 512, kernel_size=(3, 3), stride=(1, 1), padding=(1, 1))\n",
              "    (18): ReLU(inplace=True)\n",
              "    (19): MaxPool2d(kernel_size=2, stride=2, padding=0, dilation=1, ceil_mode=False)\n",
              "    (20): Conv2d(512, 512, kernel_size=(3, 3), stride=(1, 1), padding=(1, 1))\n",
              "    (21): ReLU(inplace=True)\n",
              "    (22): Conv2d(512, 512, kernel_size=(3, 3), stride=(1, 1), padding=(1, 1))\n",
              "    (23): ReLU(inplace=True)\n",
              "    (24): MaxPool2d(kernel_size=2, stride=2, padding=0, dilation=1, ceil_mode=False)\n",
              "  )\n",
              "  (avgpool): AdaptiveAvgPool2d(output_size=(7, 7))\n",
              "  (classifier): Sequential(\n",
              "    (0): Linear(in_features=25088, out_features=4096, bias=True)\n",
              "    (1): ReLU(inplace=True)\n",
              "    (2): Dropout(p=0.5, inplace=False)\n",
              "    (3): Linear(in_features=4096, out_features=4096, bias=True)\n",
              "    (4): ReLU(inplace=True)\n",
              "    (5): Dropout(p=0.5, inplace=False)\n",
              "    (6): Linear(in_features=4096, out_features=1000, bias=True)\n",
              "  )\n",
              ")"
            ]
          },
          "execution_count": 18,
          "metadata": {},
          "output_type": "execute_result"
        }
      ],
      "source": [
        "model13"
      ]
    },
    {
      "cell_type": "code",
      "execution_count": 20,
      "metadata": {
        "colab": {
          "base_uri": "https://localhost:8080/",
          "height": 138,
          "referenced_widgets": [
            "28c8aa173b744a8aa9001d6fe6981be9",
            "8e0bdc8f51fe46e385d22be3b32422c2",
            "df7ca6bc69b6461d911bb048d7b125b8",
            "94b83fc17980457faef956316274f001",
            "e88b71b958e04dbdb31b2d2323ff47cb",
            "9bc5a1c5e1c34b4db869f41a889322c3",
            "8057b810695d48e08e37f310e1d4d218",
            "3c10b95fd8214629a927cb18c94fa849",
            "17841cd748d94a72aa4180fc9d627200",
            "6ca4d100e07243eeacf59135d6443aaf",
            "5d3b824ca8fc41ca935b4c01385d0662"
          ]
        },
        "id": "8HRtM_U49q3Q",
        "outputId": "76617bef-a571-4428-a776-e9a235368e60"
      },
      "outputs": [
        {
          "data": {
            "application/vnd.jupyter.widget-view+json": {
              "model_id": "28c8aa173b744a8aa9001d6fe6981be9",
              "version_major": 2,
              "version_minor": 0
            },
            "text/plain": [
              "Epoch::   0%|          | 0/12 [00:00<?, ?it/s]"
            ]
          },
          "metadata": {},
          "output_type": "display_data"
        },
        {
          "name": "stderr",
          "output_type": "stream",
          "text": [
            "/usr/local/lib/python3.10/dist-packages/torch/optim/lr_scheduler.py:136: UserWarning: Detected call of `lr_scheduler.step()` before `optimizer.step()`. In PyTorch 1.1.0 and later, you should call them in the opposite order: `optimizer.step()` before `lr_scheduler.step()`.  Failure to do this will result in PyTorch skipping the first value of the learning rate schedule. See more details at https://pytorch.org/docs/stable/optim.html#how-to-adjust-learning-rate\n",
            "  warnings.warn(\"Detected call of `lr_scheduler.step()` before `optimizer.step()`. \"\n"
          ]
        },
        {
          "name": "stdout",
          "output_type": "stream",
          "text": [
            "Training complete in 66m 44s\n",
            "Best val Acc: 78.453125\n"
          ]
        }
      ],
      "source": [
        "model13.classifier[6] = nn.Linear(4096, 42)\n",
        "  # Использовать ли GPU\n",
        "if train_on_gpu:\n",
        "    model13 = model13.cuda()\n",
        "\n",
        "# В качестве cost function используем кросс-энтропию\n",
        "loss_fn = nn.CrossEntropyLoss()\n",
        "\n",
        "# В качестве оптимизатора - стохастический градиентный спуск\n",
        "optimizer_ft = torch.optim.Adam(model13.parameters(), lr=1e-4)\n",
        "\n",
        "# Умножает learning_rate на 0.1 каждые 7 эпох (это одна из эвристик, не было на лекциях)\n",
        "exp_lr_scheduler = torch.optim.lr_scheduler.StepLR(optimizer_ft, step_size=7, gamma=0.1)\n",
        "\n",
        "if val_dataset is None:\n",
        "    val_dataset = SimpsonsDataset(val_files, mode='val')\n",
        "\n",
        "train_dataset = SimpsonsDataset(train_files, mode='train')\n",
        "train_loader = DataLoader(train_dataset, batch_size=64, shuffle=True)\n",
        "val_loader = DataLoader(val_dataset, batch_size=64, shuffle=False)\n",
        "\n",
        "model13, losses = train_model(model13, loss_fn, optimizer_ft, exp_lr_scheduler, epochs=12, train_loader = train_loader, val_loader = val_loader)"
      ]
    },
    {
      "cell_type": "code",
      "execution_count": 21,
      "metadata": {
        "colab": {
          "base_uri": "https://localhost:8080/",
          "height": 445
        },
        "id": "g4dpZ0m79q3Q",
        "outputId": "9d7d9fb6-de26-48b1-f88f-ed7088160376"
      },
      "outputs": [
        {
          "data": {
            "image/png": "[encoded data removed]",
            "text/plain": [
              "<Figure size 800x500 with 1 Axes>"
            ]
          },
          "metadata": {},
          "output_type": "display_data"
        }
      ],
      "source": [
        "plt.figure(figsize=(8,5))\n",
        "plt.plot(losses['train'], label='train')\n",
        "plt.plot(losses['val'], label='val')\n",
        "plt.legend()\n",
        "plt.show()"
      ]
    },
    {
      "cell_type": "code",
      "execution_count": 22,
      "metadata": {
        "colab": {
          "base_uri": "https://localhost:8080/"
        },
        "id": "_TIlpisa9q3R",
        "outputId": "85d78209-7605-4317-ad99-882895504c30"
      },
      "outputs": [
        {
          "name": "stdout",
          "output_type": "stream",
          "text": [
            "F1-оценка: 0.9500000000000001\n"
          ]
        }
      ],
      "source": [
        "idxs = list(map(int, np.random.uniform(0,1000, 20)))\n",
        "imgs = [val_dataset[id][0].unsqueeze(0) for id in idxs]\n",
        "probs_ims = predict(model13, imgs)\n",
        "\n",
        "label_encoder = pickle.load(open(\"label_encoder.pkl\", 'rb'))\n",
        "\n",
        "y_pred = np.argmax(probs_ims,-1)\n",
        "\n",
        "actual_labels = [val_dataset[id][1] for id in idxs]\n",
        "\n",
        "from sklearn.metrics import f1_score\n",
        "f1 = f1_score(actual_labels, y_pred, average='micro')\n",
        "\n",
        "print(\"F1-оценка:\", f1)"
      ]
    },
    {
      "cell_type": "code",
      "execution_count": 23,
      "metadata": {
        "id": "Pz3N_frb9q3R"
      },
      "outputs": [],
      "source": [
        "label_encoder = pickle.load(open(\"label_encoder.pkl\", 'rb'))\n",
        "test_dataset = SimpsonsDataset(test_files, mode=\"test\")\n",
        "test_loader = DataLoader(test_dataset, shuffle=False, batch_size=64)\n",
        "probs = predict(model13, test_loader)\n",
        "\n",
        "preds = label_encoder.inverse_transform(np.argmax(probs, axis=1))\n",
        "test_filenames = [path.name for path in test_dataset.files]\n",
        "\n",
        "my_submit = pd.DataFrame({'Id': test_filenames, 'Expected': preds})"
      ]
    },
    {
      "cell_type": "code",
      "execution_count": 24,
      "metadata": {
        "id": "-m31fpUM9q3R"
      },
      "outputs": [],
      "source": [
        "my_submit.to_csv('VGG13_baseline.csv', index=False)"
      ]
    },
    {
      "cell_type": "markdown",
      "metadata": {
        "id": "_2TFUIHEOAxn"
      },
      "source": [
        "![image.png](data:image/png;base64,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)"
      ]
    },
    {
      "cell_type": "markdown",
      "metadata": {
        "id": "OxCqQeF0tV2K"
      },
      "source": [
        "## AlexNet"
      ]
    },
    {
      "cell_type": "code",
      "execution_count": null,
      "metadata": {
        "colab": {
          "base_uri": "https://localhost:8080/"
        },
        "id": "--FJ6GzhuCDH",
        "outputId": "d209a4fd-cfa1-4aca-f212-f909491d589e"
      },
      "outputs": [
        {
          "name": "stderr",
          "output_type": "stream",
          "text": [
            "/usr/local/lib/python3.10/dist-packages/torchvision/models/_utils.py:208: UserWarning: The parameter 'pretrained' is deprecated since 0.13 and may be removed in the future, please use 'weights' instead.\n",
            "  warnings.warn(\n",
            "/usr/local/lib/python3.10/dist-packages/torchvision/models/_utils.py:223: UserWarning: Arguments other than a weight enum or `None` for 'weights' are deprecated since 0.13 and may be removed in the future. The current behavior is equivalent to passing `weights=AlexNet_Weights.IMAGENET1K_V1`. You can also use `weights=AlexNet_Weights.DEFAULT` to get the most up-to-date weights.\n",
            "  warnings.warn(msg)\n",
            "Downloading: \"https://download.pytorch.org/models/alexnet-owt-7be5be79.pth\" to /root/.cache/torch/hub/checkpoints/alexnet-owt-7be5be79.pth\n",
            "100%|██████████| 233M/233M [00:04<00:00, 60.4MB/s]\n"
          ]
        },
        {
          "data": {
            "text/plain": [
              "AlexNet(\n",
              "  (features): Sequential(\n",
              "    (0): Conv2d(3, 64, kernel_size=(11, 11), stride=(4, 4), padding=(2, 2))\n",
              "    (1): ReLU(inplace=True)\n",
              "    (2): MaxPool2d(kernel_size=3, stride=2, padding=0, dilation=1, ceil_mode=False)\n",
              "    (3): Conv2d(64, 192, kernel_size=(5, 5), stride=(1, 1), padding=(2, 2))\n",
              "    (4): ReLU(inplace=True)\n",
              "    (5): MaxPool2d(kernel_size=3, stride=2, padding=0, dilation=1, ceil_mode=False)\n",
              "    (6): Conv2d(192, 384, kernel_size=(3, 3), stride=(1, 1), padding=(1, 1))\n",
              "    (7): ReLU(inplace=True)\n",
              "    (8): Conv2d(384, 256, kernel_size=(3, 3), stride=(1, 1), padding=(1, 1))\n",
              "    (9): ReLU(inplace=True)\n",
              "    (10): Conv2d(256, 256, kernel_size=(3, 3), stride=(1, 1), padding=(1, 1))\n",
              "    (11): ReLU(inplace=True)\n",
              "    (12): MaxPool2d(kernel_size=3, stride=2, padding=0, dilation=1, ceil_mode=False)\n",
              "  )\n",
              "  (avgpool): AdaptiveAvgPool2d(output_size=(6, 6))\n",
              "  (classifier): Sequential(\n",
              "    (0): Dropout(p=0.5, inplace=False)\n",
              "    (1): Linear(in_features=9216, out_features=4096, bias=True)\n",
              "    (2): ReLU(inplace=True)\n",
              "    (3): Dropout(p=0.5, inplace=False)\n",
              "    (4): Linear(in_features=4096, out_features=4096, bias=True)\n",
              "    (5): ReLU(inplace=True)\n",
              "    (6): Linear(in_features=4096, out_features=1000, bias=True)\n",
              "  )\n",
              ")"
            ]
          },
          "execution_count": 1,
          "metadata": {},
          "output_type": "execute_result"
        }
      ],
      "source": [
        "from torchvision import models\n",
        "model_alex_net = models.alexnet(pretrained=True)\n",
        "model_alex_net"
      ]
    },
    {
      "cell_type": "code",
      "execution_count": null,
      "metadata": {
        "colab": {
          "base_uri": "https://localhost:8080/",
          "height": 138,
          "referenced_widgets": [
            "3e85be90329f43d4b55de9e83201c414",
            "8191c8cf8d9149efa64a6d235c593faa",
            "651b1c2392aa4abb95f8ed6e3be9bdff",
            "834479966ffd44ef97c292e5b7f9305c",
            "34ed354e58b3421586d84ca4c55846cd",
            "b44c9a031a684b288a60b8f10a4c7012",
            "84f79c5d851f4d5b93abcfaf16d705ae",
            "25fd58734f224e9eb61262c93e4c81f0",
            "e45e1802525f4621bcc0d04cb63fe248",
            "7730432302bb46b09aadf9f4e85a2a7c",
            "c027ecb95d0945d1bd23ea76b9412805"
          ]
        },
        "id": "HbeKBh3pvgbI",
        "outputId": "1cbadcc8-2bd4-4314-f383-2a6e7edeb805"
      },
      "outputs": [
        {
          "data": {
            "application/vnd.jupyter.widget-view+json": {
              "model_id": "3e85be90329f43d4b55de9e83201c414",
              "version_major": 2,
              "version_minor": 0
            },
            "text/plain": [
              "Epoch::   0%|          | 0/20 [00:00<?, ?it/s]"
            ]
          },
          "metadata": {},
          "output_type": "display_data"
        },
        {
          "name": "stderr",
          "output_type": "stream",
          "text": [
            "/usr/local/lib/python3.10/dist-packages/torch/optim/lr_scheduler.py:136: UserWarning: Detected call of `lr_scheduler.step()` before `optimizer.step()`. In PyTorch 1.1.0 and later, you should call them in the opposite order: `optimizer.step()` before `lr_scheduler.step()`.  Failure to do this will result in PyTorch skipping the first value of the learning rate schedule. See more details at https://pytorch.org/docs/stable/optim.html#how-to-adjust-learning-rate\n",
            "  warnings.warn(\"Detected call of `lr_scheduler.step()` before `optimizer.step()`. \"\n"
          ]
        },
        {
          "name": "stdout",
          "output_type": "stream",
          "text": [
            "Training complete in 48m 3s\n",
            "Best val Acc: 76.921875\n"
          ]
        }
      ],
      "source": [
        "model_alex_net.classifier[6] = nn.Linear(4096, 42)\n",
        "  # Использовать ли GPU\n",
        "if train_on_gpu:\n",
        "    model_alex_net = model_alex_net.cuda()\n",
        "\n",
        "# В качестве cost function используем кросс-энтропию\n",
        "loss_fn = nn.CrossEntropyLoss()\n",
        "\n",
        "# В качестве оптимизатора - стохастический градиентный спуск\n",
        "optimizer_ft = torch.optim.Adam(model_alex_net.parameters(), lr=1e-4)\n",
        "\n",
        "# Умножает learning_rate на 0.1 каждые 7 эпох (это одна из эвристик, не было на лекциях)\n",
        "exp_lr_scheduler = torch.optim.lr_scheduler.StepLR(optimizer_ft, step_size=7, gamma=0.1)\n",
        "\n",
        "if val_dataset is None:\n",
        "    val_dataset = SimpsonsDataset(val_files, mode='val')\n",
        "\n",
        "train_dataset = SimpsonsDataset(train_files, mode='train')\n",
        "train_loader = DataLoader(train_dataset, batch_size=64, shuffle=True)\n",
        "val_loader = DataLoader(val_dataset, batch_size=64, shuffle=False)\n",
        "\n",
        "model_alex_net, losses = train_model(model_alex_net, loss_fn, optimizer_ft, exp_lr_scheduler, epochs=20, train_loader = train_loader, val_loader = val_loader)"
      ]
    },
    {
      "cell_type": "code",
      "execution_count": null,
      "metadata": {
        "colab": {
          "base_uri": "https://localhost:8080/",
          "height": 445
        },
        "id": "1xApzF-8vgbI",
        "outputId": "04a2e05a-cc0f-4398-f320-7e683bc41b9e"
      },
      "outputs": [
        {
          "data": {
            "image/png": "[encoded data removed]",
            "text/plain": [
              "<Figure size 800x500 with 1 Axes>"
            ]
          },
          "metadata": {},
          "output_type": "display_data"
        }
      ],
      "source": [
        "plt.figure(figsize=(8,5))\n",
        "plt.plot(losses['train'], label='train')\n",
        "plt.plot(losses['val'], label='val')\n",
        "plt.legend()\n",
        "plt.show()"
      ]
    },
    {
      "cell_type": "code",
      "execution_count": null,
      "metadata": {
        "colab": {
          "base_uri": "https://localhost:8080/"
        },
        "id": "oXGHj21HvgbJ",
        "outputId": "7dec88e8-d2a8-47b1-d86b-952580369825"
      },
      "outputs": [
        {
          "name": "stdout",
          "output_type": "stream",
          "text": [
            "F1-оценка: 0.9\n"
          ]
        }
      ],
      "source": [
        "idxs = list(map(int, np.random.uniform(0,1000, 20)))\n",
        "imgs = [val_dataset[id][0].unsqueeze(0) for id in idxs]\n",
        "probs_ims = predict(model_alex_net, imgs)\n",
        "\n",
        "label_encoder = pickle.load(open(\"label_encoder.pkl\", 'rb'))\n",
        "\n",
        "y_pred = np.argmax(probs_ims,-1)\n",
        "\n",
        "actual_labels = [val_dataset[id][1] for id in idxs]\n",
        "\n",
        "from sklearn.metrics import f1_score\n",
        "f1 = f1_score(actual_labels, y_pred, average='micro')\n",
        "\n",
        "print(\"F1-оценка:\", f1)"
      ]
    },
    {
      "cell_type": "code",
      "execution_count": null,
      "metadata": {
        "id": "liycyuUrvgbJ"
      },
      "outputs": [],
      "source": [
        "label_encoder = pickle.load(open(\"label_encoder.pkl\", 'rb'))\n",
        "test_dataset = SimpsonsDataset(test_files, mode=\"test\")\n",
        "test_loader = DataLoader(test_dataset, shuffle=False, batch_size=64)\n",
        "probs = predict(model_alex_net, test_loader)\n",
        "\n",
        "preds = label_encoder.inverse_transform(np.argmax(probs, axis=1))\n",
        "test_filenames = [path.name for path in test_dataset.files]\n",
        "\n",
        "my_submit = pd.DataFrame({'Id': test_filenames, 'Expected': preds})"
      ]
    },
    {
      "cell_type": "code",
      "execution_count": null,
      "metadata": {
        "id": "lMhbmRtqvgbJ"
      },
      "outputs": [],
      "source": [
        "my_submit.to_csv('AlexNet_baseline.csv', index=False)"
      ]
    },
    {
      "cell_type": "markdown",
      "metadata": {
        "id": "F6ALZ15g8COk"
      },
      "source": [
        "![image.png](data:image/png;base64,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)"
      ]
    },
    {
      "cell_type": "markdown",
      "metadata": {
        "id": "uI0WQZCQLyVv"
      },
      "source": [
        "##Исследование на дообучение ResNet"
      ]
    },
    {
      "cell_type": "code",
      "execution_count": null,
      "metadata": {
        "colab": {
          "base_uri": "https://localhost:8080/"
        },
        "id": "_JJL5MFIoq54",
        "outputId": "fa9a5ee3-3b6e-4e9a-9b12-ab104ff7da7a"
      },
      "outputs": [
        {
          "name": "stderr",
          "output_type": "stream",
          "text": [
            "/usr/local/lib/python3.10/dist-packages/torchvision/models/_utils.py:208: UserWarning: The parameter 'pretrained' is deprecated since 0.13 and may be removed in the future, please use 'weights' instead.\n",
            "  warnings.warn(\n",
            "/usr/local/lib/python3.10/dist-packages/torchvision/models/_utils.py:223: UserWarning: Arguments other than a weight enum or `None` for 'weights' are deprecated since 0.13 and may be removed in the future. The current behavior is equivalent to passing `weights=ResNet18_Weights.IMAGENET1K_V1`. You can also use `weights=ResNet18_Weights.DEFAULT` to get the most up-to-date weights.\n",
            "  warnings.warn(msg)\n",
            "/usr/local/lib/python3.10/dist-packages/torchvision/models/_utils.py:223: UserWarning: Arguments other than a weight enum or `None` for 'weights' are deprecated since 0.13 and may be removed in the future. The current behavior is equivalent to passing `weights=ResNet34_Weights.IMAGENET1K_V1`. You can also use `weights=ResNet34_Weights.DEFAULT` to get the most up-to-date weights.\n",
            "  warnings.warn(msg)\n",
            "/usr/local/lib/python3.10/dist-packages/torchvision/models/_utils.py:223: UserWarning: Arguments other than a weight enum or `None` for 'weights' are deprecated since 0.13 and may be removed in the future. The current behavior is equivalent to passing `weights=ResNet50_Weights.IMAGENET1K_V1`. You can also use `weights=ResNet50_Weights.DEFAULT` to get the most up-to-date weights.\n",
            "  warnings.warn(msg)\n",
            "Downloading: \"https://download.pytorch.org/models/resnet50-0676ba61.pth\" to /root/.cache/torch/hub/checkpoints/resnet50-0676ba61.pth\n",
            "100%|██████████| 97.8M/97.8M [00:01<00:00, 56.9MB/s]\n",
            "/usr/local/lib/python3.10/dist-packages/torchvision/models/_utils.py:223: UserWarning: Arguments other than a weight enum or `None` for 'weights' are deprecated since 0.13 and may be removed in the future. The current behavior is equivalent to passing `weights=ResNet101_Weights.IMAGENET1K_V1`. You can also use `weights=ResNet101_Weights.DEFAULT` to get the most up-to-date weights.\n",
            "  warnings.warn(msg)\n",
            "Downloading: \"https://download.pytorch.org/models/resnet101-63fe2227.pth\" to /root/.cache/torch/hub/checkpoints/resnet101-63fe2227.pth\n",
            "100%|██████████| 171M/171M [00:01<00:00, 159MB/s]\n"
          ]
        }
      ],
      "source": [
        "from torchvision import models\n",
        "model18 = models.resnet18(pretrained=True)\n",
        "model34 = models.resnet34(pretrained=True)"
      ]
    },
    {
      "cell_type": "markdown",
      "metadata": {
        "id": "wGBPZg5FLj8T"
      },
      "source": [
        "### ResNet18"
      ]
    },
    {
      "cell_type": "code",
      "execution_count": null,
      "metadata": {
        "id": "ViqvTJDorP0B"
      },
      "outputs": [],
      "source": [
        "model18.fc = nn.Linear(512, 42)\n",
        "  # Использовать ли GPU\n",
        "if train_on_gpu:\n",
        "    model18 = model18.cuda()\n",
        "\n",
        "# В качестве cost function используем кросс-энтропию\n",
        "loss_fn = nn.CrossEntropyLoss()\n",
        "\n",
        "# В качестве оптимизатора - стохастический градиентный спуск\n",
        "optimizer_ft = torch.optim.Adam(model18.parameters(), lr=1e-4)\n",
        "\n",
        "# Умножает learning_rate на 0.1 каждые 7 эпох (это одна из эвристик, не было на лекциях)\n",
        "exp_lr_scheduler = torch.optim.lr_scheduler.StepLR(optimizer_ft, step_size=7, gamma=0.1)"
      ]
    },
    {
      "cell_type": "code",
      "execution_count": null,
      "metadata": {
        "id": "p8lVqRhoEUZZ"
      },
      "outputs": [],
      "source": [
        "if val_dataset is None:\n",
        "    val_dataset = SimpsonsDataset(val_files, mode='val')\n",
        "\n",
        "train_dataset = SimpsonsDataset(train_files, mode='train')\n",
        "train_loader = DataLoader(train_dataset, batch_size=64, shuffle=True)\n",
        "val_loader = DataLoader(val_dataset, batch_size=64, shuffle=False)"
      ]
    },
    {
      "cell_type": "code",
      "execution_count": null,
      "metadata": {
        "colab": {
          "base_uri": "https://localhost:8080/",
          "height": 138,
          "referenced_widgets": [
            "8bf7a3f40d9949ab822e0f3273e6605b",
            "7e4e2e8ca7314b8fa7c69d135840e4f1",
            "0f87fa5617da49038e4091a1eac6dbbb",
            "924cec578f9f4eb7ab00915d59f57419",
            "075f7ad5fb004a9f905858a3ba419751",
            "25bb6f4a08e44c688962d8f8309652f4",
            "4edd4f3695284feaab1d7b627841c414",
            "190b2d25afeb4036a86b4edcbbb77c23",
            "a864ae5ab0f4404eb2a4fe973f6336dd",
            "fe5c59849beb4656bc3b007b04338ca5",
            "ac9ad1cc0f3748f5997cb97e8c152256"
          ]
        },
        "id": "dz03kux9r6vI",
        "outputId": "dcb0157f-b4d0-4394-80ab-748181af7bd5"
      },
      "outputs": [
        {
          "data": {
            "application/vnd.jupyter.widget-view+json": {
              "model_id": "8bf7a3f40d9949ab822e0f3273e6605b",
              "version_major": 2,
              "version_minor": 0
            },
            "text/plain": [
              "Epoch::   0%|          | 0/12 [00:00<?, ?it/s]"
            ]
          },
          "metadata": {},
          "output_type": "display_data"
        },
        {
          "name": "stderr",
          "output_type": "stream",
          "text": [
            "/usr/local/lib/python3.10/dist-packages/torch/optim/lr_scheduler.py:136: UserWarning: Detected call of `lr_scheduler.step()` before `optimizer.step()`. In PyTorch 1.1.0 and later, you should call them in the opposite order: `optimizer.step()` before `lr_scheduler.step()`.  Failure to do this will result in PyTorch skipping the first value of the learning rate schedule. See more details at https://pytorch.org/docs/stable/optim.html#how-to-adjust-learning-rate\n",
            "  warnings.warn(\"Detected call of `lr_scheduler.step()` before `optimizer.step()`. \"\n"
          ]
        },
        {
          "name": "stdout",
          "output_type": "stream",
          "text": [
            "Training complete in 34m 37s\n",
            "Best val Acc: 79.453125\n"
          ]
        }
      ],
      "source": [
        "model18, losses = train_model(model18, loss_fn, optimizer_ft, exp_lr_scheduler, epochs=12, train_loader = train_loader, val_loader = val_loader)"
      ]
    },
    {
      "cell_type": "code",
      "execution_count": null,
      "metadata": {
        "colab": {
          "base_uri": "https://localhost:8080/",
          "height": 445
        },
        "id": "0RFTm1TvI_se",
        "outputId": "1ecf9055-50d0-4f54-8139-aa5235abf7d7"
      },
      "outputs": [
        {
          "data": {
            "image/png": "[encoded data removed]",
            "text/plain": [
              "<Figure size 800x500 with 1 Axes>"
            ]
          },
          "metadata": {},
          "output_type": "display_data"
        }
      ],
      "source": [
        "plt.figure(figsize=(8,5))\n",
        "plt.plot(losses['train'], label='train')\n",
        "plt.plot(losses['val'], label='val')\n",
        "plt.legend()\n",
        "plt.show()"
      ]
    },
    {
      "cell_type": "code",
      "execution_count": null,
      "metadata": {
        "colab": {
          "base_uri": "https://localhost:8080/"
        },
        "id": "Qfk3-G6pMBn3",
        "outputId": "a68f0857-6bf8-4f22-b335-f6d313f8a06c"
      },
      "outputs": [
        {
          "name": "stdout",
          "output_type": "stream",
          "text": [
            "F1-оценка: 1.0\n"
          ]
        }
      ],
      "source": [
        "idxs = list(map(int, np.random.uniform(0,1000, 20)))\n",
        "imgs = [val_dataset[id][0].unsqueeze(0) for id in idxs]\n",
        "probs_ims = predict(model18, imgs)\n",
        "\n",
        "label_encoder = pickle.load(open(\"label_encoder.pkl\", 'rb'))\n",
        "\n",
        "y_pred = np.argmax(probs_ims,-1)\n",
        "\n",
        "actual_labels = [val_dataset[id][1] for id in idxs]\n",
        "\n",
        "from sklearn.metrics import f1_score\n",
        "f1 = f1_score(actual_labels, y_pred, average='micro')\n",
        "\n",
        "print(\"F1-оценка:\", f1)"
      ]
    },
    {
      "cell_type": "code",
      "execution_count": null,
      "metadata": {
        "id": "hUG82Yn3MJsJ"
      },
      "outputs": [],
      "source": [
        "label_encoder = pickle.load(open(\"label_encoder.pkl\", 'rb'))\n",
        "test_dataset = SimpsonsDataset(test_files, mode=\"test\")\n",
        "test_loader = DataLoader(test_dataset, shuffle=False, batch_size=64)\n",
        "probs = predict(model18, test_loader)\n",
        "\n",
        "preds = label_encoder.inverse_transform(np.argmax(probs, axis=1))\n",
        "test_filenames = [path.name for path in test_dataset.files]\n",
        "\n",
        "my_submit = pd.DataFrame({'Id': test_filenames, 'Expected': preds})"
      ]
    },
    {
      "cell_type": "code",
      "execution_count": null,
      "metadata": {
        "id": "Kni5LxTMMOTS"
      },
      "outputs": [],
      "source": [
        "my_submit.to_csv('ResNet18_baseline.csv', index=False)"
      ]
    },
    {
      "cell_type": "markdown",
      "metadata": {
        "id": "vo9Hr8JbM0PH"
      },
      "source": [
        "![image.png](data:image/png;base64,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)"
      ]
    },
    {
      "cell_type": "markdown",
      "metadata": {
        "id": "aB9cGMb8LqlA"
      },
      "source": [
        "###ResNet34"
      ]
    },
    {
      "cell_type": "code",
      "execution_count": null,
      "metadata": {
        "colab": {
          "base_uri": "https://localhost:8080/",
          "height": 175
        },
        "id": "hMhyoUf29VI-",
        "outputId": "cfea6e44-0d6a-49b0-969c-7b973547e703"
      },
      "outputs": [
        {
          "ename": "NameError",
          "evalue": "ignored",
          "output_type": "error",
          "traceback": [
            "\u001b[0;31m---------------------------------------------------------------------------\u001b[0m",
            "\u001b[0;31mNameError\u001b[0m                                 Traceback (most recent call last)",
            "\u001b[0;32m<ipython-input-17-96f227e30e09>\u001b[0m in \u001b[0;36m<cell line: 1>\u001b[0;34m()\u001b[0m\n\u001b[0;32m----> 1\u001b[0;31m \u001b[0mmodel34\u001b[0m\u001b[0;34m\u001b[0m\u001b[0;34m\u001b[0m\u001b[0m\n\u001b[0m",
            "\u001b[0;31mNameError\u001b[0m: name 'model34' is not defined"
          ]
        }
      ],
      "source": [
        "model34"
      ]
    },
    {
      "cell_type": "code",
      "execution_count": null,
      "metadata": {
        "colab": {
          "base_uri": "https://localhost:8080/",
          "height": 138,
          "referenced_widgets": [
            "2fe986d1067446bf9afc5926ef4c1e91",
            "a10a8b0910a8485fa615baf528d8e469",
            "086807b48c67476e954d5ecee0c04d45",
            "bfcf08d0fe8341129282be4c1f267d6d",
            "e73e9fbb81944d58b52733c01388bef9",
            "5e119ed244604b868df58c84040a0a8d",
            "a1aaf17788f742fa9a1e9aa6241aa9c4",
            "f474bbc0088d427899b57b27dedc38e5",
            "92f289cab90a4ab6a6fb27c716a2bc48",
            "f5949e80e847407589552922264e87c7",
            "a40f493aea41493a8d0c3e52e68f4979"
          ]
        },
        "id": "M5s7KRiA8zAQ",
        "outputId": "16f6084e-76df-4cae-f3c5-41aa9186577b"
      },
      "outputs": [
        {
          "data": {
            "application/vnd.jupyter.widget-view+json": {
              "model_id": "2fe986d1067446bf9afc5926ef4c1e91",
              "version_major": 2,
              "version_minor": 0
            },
            "text/plain": [
              "Epoch::   0%|          | 0/12 [00:00<?, ?it/s]"
            ]
          },
          "metadata": {},
          "output_type": "display_data"
        },
        {
          "name": "stderr",
          "output_type": "stream",
          "text": [
            "/usr/local/lib/python3.10/dist-packages/torch/optim/lr_scheduler.py:136: UserWarning: Detected call of `lr_scheduler.step()` before `optimizer.step()`. In PyTorch 1.1.0 and later, you should call them in the opposite order: `optimizer.step()` before `lr_scheduler.step()`.  Failure to do this will result in PyTorch skipping the first value of the learning rate schedule. See more details at https://pytorch.org/docs/stable/optim.html#how-to-adjust-learning-rate\n",
            "  warnings.warn(\"Detected call of `lr_scheduler.step()` before `optimizer.step()`. \"\n"
          ]
        },
        {
          "name": "stdout",
          "output_type": "stream",
          "text": [
            "Training complete in 40m 20s\n",
            "Best val Acc: 79.515625\n"
          ]
        }
      ],
      "source": [
        "model34.fc = nn.Linear(512, 42)\n",
        "  # Использовать ли GPU\n",
        "if train_on_gpu:\n",
        "    model34 = model34.cuda()\n",
        "\n",
        "# В качестве cost function используем кросс-энтропию\n",
        "loss_fn = nn.CrossEntropyLoss()\n",
        "\n",
        "# В качестве оптимизатора - стохастический градиентный спуск\n",
        "optimizer_ft = torch.optim.Adam(model34.parameters(), lr=1e-4)\n",
        "\n",
        "# Умножает learning_rate на 0.1 каждые 7 эпох (это одна из эвристик, не было на лекциях)\n",
        "exp_lr_scheduler = torch.optim.lr_scheduler.StepLR(optimizer_ft, step_size=7, gamma=0.1)\n",
        "\n",
        "if val_dataset is None:\n",
        "    val_dataset = SimpsonsDataset(val_files, mode='val')\n",
        "\n",
        "train_dataset = SimpsonsDataset(train_files, mode='train')\n",
        "train_loader = DataLoader(train_dataset, batch_size=64, shuffle=True)\n",
        "val_loader = DataLoader(val_dataset, batch_size=64, shuffle=False)\n",
        "\n",
        "model34, losses = train_model(model34, loss_fn, optimizer_ft, exp_lr_scheduler, epochs=12, train_loader = train_loader, val_loader = val_loader)"
      ]
    },
    {
      "cell_type": "code",
      "execution_count": null,
      "metadata": {
        "colab": {
          "base_uri": "https://localhost:8080/",
          "height": 445
        },
        "id": "igZquek58zAR",
        "outputId": "e2550775-4455-4ab6-ac5d-34fe6f5a88bd"
      },
      "outputs": [
        {
          "data": {
            "image/png": "[encoded data removed]",
            "text/plain": [
              "<Figure size 800x500 with 1 Axes>"
            ]
          },
          "metadata": {},
          "output_type": "display_data"
        }
      ],
      "source": [
        "plt.figure(figsize=(8,5))\n",
        "plt.plot(losses['train'], label='train')\n",
        "plt.plot(losses['val'], label='val')\n",
        "plt.legend()\n",
        "plt.show()"
      ]
    },
    {
      "cell_type": "code",
      "execution_count": null,
      "metadata": {
        "colab": {
          "base_uri": "https://localhost:8080/"
        },
        "id": "0oFFO05uNItS",
        "outputId": "665ef466-1249-4834-974a-7b45e2ca8614"
      },
      "outputs": [
        {
          "name": "stdout",
          "output_type": "stream",
          "text": [
            "F1-оценка: 0.9500000000000001\n"
          ]
        }
      ],
      "source": [
        "idxs = list(map(int, np.random.uniform(0,1000, 20)))\n",
        "imgs = [val_dataset[id][0].unsqueeze(0) for id in idxs]\n",
        "probs_ims = predict(model34, imgs)\n",
        "\n",
        "label_encoder = pickle.load(open(\"label_encoder.pkl\", 'rb'))\n",
        "\n",
        "y_pred = np.argmax(probs_ims,-1)\n",
        "\n",
        "actual_labels = [val_dataset[id][1] for id in idxs]\n",
        "\n",
        "from sklearn.metrics import f1_score\n",
        "f1 = f1_score(actual_labels, y_pred, average='micro')\n",
        "\n",
        "print(\"F1-оценка:\", f1)"
      ]
    },
    {
      "cell_type": "code",
      "execution_count": null,
      "metadata": {
        "id": "zLidLbu_NItc"
      },
      "outputs": [],
      "source": [
        "label_encoder = pickle.load(open(\"label_encoder.pkl\", 'rb'))\n",
        "test_dataset = SimpsonsDataset(test_files, mode=\"test\")\n",
        "test_loader = DataLoader(test_dataset, shuffle=False, batch_size=64)\n",
        "probs = predict(model34, test_loader)\n",
        "\n",
        "preds = label_encoder.inverse_transform(np.argmax(probs, axis=1))\n",
        "test_filenames = [path.name for path in test_dataset.files]\n",
        "\n",
        "my_submit = pd.DataFrame({'Id': test_filenames, 'Expected': preds})"
      ]
    },
    {
      "cell_type": "code",
      "execution_count": null,
      "metadata": {
        "id": "j3Kj0bjWNItc"
      },
      "outputs": [],
      "source": [
        "my_submit.to_csv('ResNet34_baseline.csv', index=False)"
      ]
    },
    {
      "cell_type": "markdown",
      "metadata": {
        "id": "S2EOI3opZ6qm"
      },
      "source": [
        "![image.png](data:image/png;base64,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)"
      ]
    }
  ],
  "metadata": {
    "accelerator": "GPU",
    "colab": {
      "collapsed_sections": [
        "OxCqQeF0tV2K",
        "uI0WQZCQLyVv",
        "wGBPZg5FLj8T",
        "aB9cGMb8LqlA"
      ],
      "gpuType": "T4",
      "provenance": []
    },
    "kernelspec": {
      "display_name": "Python 3",
      "name": "python3"
    },
    "language_info": {
      "name": "python"
    },
    "widgets": {
      "application/vnd.jupyter.widget-state+json": {
        "047d717c6aad4be4878c60c21f775b88": {
          "model_module": "@jupyter-widgets/base",
          "model_module_version": "1.2.0",
          "model_name": "LayoutModel",
          "state": {
            "_model_module": "@jupyter-widgets/base",
            "_model_module_version": "1.2.0",
            "_model_name": "LayoutModel",
            "_view_count": null,
            "_view_module": "@jupyter-widgets/base",
            "_view_module_version": "1.2.0",
            "_view_name": "LayoutView",
            "align_content": null,
            "align_items": null,
            "align_self": null,
            "border": null,
            "bottom": null,
            "display": null,
            "flex": null,
            "flex_flow": null,
            "grid_area": null,
            "grid_auto_columns": null,
            "grid_auto_flow": null,
            "grid_auto_rows": null,
            "grid_column": null,
            "grid_gap": null,
            "grid_row": null,
            "grid_template_areas": null,
            "grid_template_columns": null,
            "grid_template_rows": null,
            "height": null,
            "justify_content": null,
            "justify_items": null,
            "left": null,
            "margin": null,
            "max_height": null,
            "max_width": null,
            "min_height": null,
            "min_width": null,
            "object_fit": null,
            "object_position": null,
            "order": null,
            "overflow": null,
            "overflow_x": null,
            "overflow_y": null,
            "padding": null,
            "right": null,
            "top": null,
            "visibility": null,
            "width": null
          }
        },
        "075f7ad5fb004a9f905858a3ba419751": {
          "model_module": "@jupyter-widgets/base",
          "model_module_version": "1.2.0",
          "model_name": "LayoutModel",
          "state": {
            "_model_module": "@jupyter-widgets/base",
            "_model_module_version": "1.2.0",
            "_model_name": "LayoutModel",
            "_view_count": null,
            "_view_module": "@jupyter-widgets/base",
            "_view_module_version": "1.2.0",
            "_view_name": "LayoutView",
            "align_content": null,
            "align_items": null,
            "align_self": null,
            "border": null,
            "bottom": null,
            "display": null,
            "flex": null,
            "flex_flow": null,
            "grid_area": null,
            "grid_auto_columns": null,
            "grid_auto_flow": null,
            "grid_auto_rows": null,
            "grid_column": null,
            "grid_gap": null,
            "grid_row": null,
            "grid_template_areas": null,
            "grid_template_columns": null,
            "grid_template_rows": null,
            "height": null,
            "justify_content": null,
            "justify_items": null,
            "left": null,
            "margin": null,
            "max_height": null,
            "max_width": null,
            "min_height": null,
            "min_width": null,
            "object_fit": null,
            "object_position": null,
            "order": null,
            "overflow": null,
            "overflow_x": null,
            "overflow_y": null,
            "padding": null,
            "right": null,
            "top": null,
            "visibility": null,
            "width": null
          }
        },
        "086807b48c67476e954d5ecee0c04d45": {
          "model_module": "@jupyter-widgets/controls",
          "model_module_version": "1.5.0",
          "model_name": "FloatProgressModel",
          "state": {
            "_dom_classes": [],
            "_model_module": "@jupyter-widgets/controls",
            "_model_module_version": "1.5.0",
            "_model_name": "FloatProgressModel",
            "_view_count": null,
            "_view_module": "@jupyter-widgets/controls",
            "_view_module_version": "1.5.0",
            "_view_name": "ProgressView",
            "bar_style": "success",
            "description": "",
            "description_tooltip": null,
            "layout": "IPY_MODEL_f474bbc0088d427899b57b27dedc38e5",
            "max": 12,
            "min": 0,
            "orientation": "horizontal",
            "style": "IPY_MODEL_92f289cab90a4ab6a6fb27c716a2bc48",
            "value": 12
          }
        },
        "0f87fa5617da49038e4091a1eac6dbbb": {
          "model_module": "@jupyter-widgets/controls",
          "model_module_version": "1.5.0",
          "model_name": "FloatProgressModel",
          "state": {
            "_dom_classes": [],
            "_model_module": "@jupyter-widgets/controls",
            "_model_module_version": "1.5.0",
            "_model_name": "FloatProgressModel",
            "_view_count": null,
            "_view_module": "@jupyter-widgets/controls",
            "_view_module_version": "1.5.0",
            "_view_name": "ProgressView",
            "bar_style": "success",
            "description": "",
            "description_tooltip": null,
            "layout": "IPY_MODEL_190b2d25afeb4036a86b4edcbbb77c23",
            "max": 12,
            "min": 0,
            "orientation": "horizontal",
            "style": "IPY_MODEL_a864ae5ab0f4404eb2a4fe973f6336dd",
            "value": 12
          }
        },
        "17841cd748d94a72aa4180fc9d627200": {
          "model_module": "@jupyter-widgets/controls",
          "model_module_version": "1.5.0",
          "model_name": "ProgressStyleModel",
          "state": {
            "_model_module": "@jupyter-widgets/controls",
            "_model_module_version": "1.5.0",
            "_model_name": "ProgressStyleModel",
            "_view_count": null,
            "_view_module": "@jupyter-widgets/base",
            "_view_module_version": "1.2.0",
            "_view_name": "StyleView",
            "bar_color": null,
            "description_width": ""
          }
        },
        "190b2d25afeb4036a86b4edcbbb77c23": {
          "model_module": "@jupyter-widgets/base",
          "model_module_version": "1.2.0",
          "model_name": "LayoutModel",
          "state": {
            "_model_module": "@jupyter-widgets/base",
            "_model_module_version": "1.2.0",
            "_model_name": "LayoutModel",
            "_view_count": null,
            "_view_module": "@jupyter-widgets/base",
            "_view_module_version": "1.2.0",
            "_view_name": "LayoutView",
            "align_content": null,
            "align_items": null,
            "align_self": null,
            "border": null,
            "bottom": null,
            "display": null,
            "flex": null,
            "flex_flow": null,
            "grid_area": null,
            "grid_auto_columns": null,
            "grid_auto_flow": null,
            "grid_auto_rows": null,
            "grid_column": null,
            "grid_gap": null,
            "grid_row": null,
            "grid_template_areas": null,
            "grid_template_columns": null,
            "grid_template_rows": null,
            "height": null,
            "justify_content": null,
            "justify_items": null,
            "left": null,
            "margin": null,
            "max_height": null,
            "max_width": null,
            "min_height": null,
            "min_width": null,
            "object_fit": null,
            "object_position": null,
            "order": null,
            "overflow": null,
            "overflow_x": null,
            "overflow_y": null,
            "padding": null,
            "right": null,
            "top": null,
            "visibility": null,
            "width": null
          }
        },
        "25bb6f4a08e44c688962d8f8309652f4": {
          "model_module": "@jupyter-widgets/base",
          "model_module_version": "1.2.0",
          "model_name": "LayoutModel",
          "state": {
            "_model_module": "@jupyter-widgets/base",
            "_model_module_version": "1.2.0",
            "_model_name": "LayoutModel",
            "_view_count": null,
            "_view_module": "@jupyter-widgets/base",
            "_view_module_version": "1.2.0",
            "_view_name": "LayoutView",
            "align_content": null,
            "align_items": null,
            "align_self": null,
            "border": null,
            "bottom": null,
            "display": null,
            "flex": null,
            "flex_flow": null,
            "grid_area": null,
            "grid_auto_columns": null,
            "grid_auto_flow": null,
            "grid_auto_rows": null,
            "grid_column": null,
            "grid_gap": null,
            "grid_row": null,
            "grid_template_areas": null,
            "grid_template_columns": null,
            "grid_template_rows": null,
            "height": null,
            "justify_content": null,
            "justify_items": null,
            "left": null,
            "margin": null,
            "max_height": null,
            "max_width": null,
            "min_height": null,
            "min_width": null,
            "object_fit": null,
            "object_position": null,
            "order": null,
            "overflow": null,
            "overflow_x": null,
            "overflow_y": null,
            "padding": null,
            "right": null,
            "top": null,
            "visibility": null,
            "width": null
          }
        },
        "25fd58734f224e9eb61262c93e4c81f0": {
          "model_module": "@jupyter-widgets/base",
          "model_module_version": "1.2.0",
          "model_name": "LayoutModel",
          "state": {
            "_model_module": "@jupyter-widgets/base",
            "_model_module_version": "1.2.0",
            "_model_name": "LayoutModel",
            "_view_count": null,
            "_view_module": "@jupyter-widgets/base",
            "_view_module_version": "1.2.0",
            "_view_name": "LayoutView",
            "align_content": null,
            "align_items": null,
            "align_self": null,
            "border": null,
            "bottom": null,
            "display": null,
            "flex": null,
            "flex_flow": null,
            "grid_area": null,
            "grid_auto_columns": null,
            "grid_auto_flow": null,
            "grid_auto_rows": null,
            "grid_column": null,
            "grid_gap": null,
            "grid_row": null,
            "grid_template_areas": null,
            "grid_template_columns": null,
            "grid_template_rows": null,
            "height": null,
            "justify_content": null,
            "justify_items": null,
            "left": null,
            "margin": null,
            "max_height": null,
            "max_width": null,
            "min_height": null,
            "min_width": null,
            "object_fit": null,
            "object_position": null,
            "order": null,
            "overflow": null,
            "overflow_x": null,
            "overflow_y": null,
            "padding": null,
            "right": null,
            "top": null,
            "visibility": null,
            "width": null
          }
        },
        "28c8aa173b744a8aa9001d6fe6981be9": {
          "model_module": "@jupyter-widgets/controls",
          "model_module_version": "1.5.0",
          "model_name": "HBoxModel",
          "state": {
            "_dom_classes": [],
            "_model_module": "@jupyter-widgets/controls",
            "_model_module_version": "1.5.0",
            "_model_name": "HBoxModel",
            "_view_count": null,
            "_view_module": "@jupyter-widgets/controls",
            "_view_module_version": "1.5.0",
            "_view_name": "HBoxView",
            "box_style": "",
            "children": [
              "IPY_MODEL_8e0bdc8f51fe46e385d22be3b32422c2",
              "IPY_MODEL_df7ca6bc69b6461d911bb048d7b125b8",
              "IPY_MODEL_94b83fc17980457faef956316274f001"
            ],
            "layout": "IPY_MODEL_e88b71b958e04dbdb31b2d2323ff47cb"
          }
        },
        "2c244622606440f29b3b7ad9d76083cd": {
          "model_module": "@jupyter-widgets/controls",
          "model_module_version": "1.5.0",
          "model_name": "ProgressStyleModel",
          "state": {
            "_model_module": "@jupyter-widgets/controls",
            "_model_module_version": "1.5.0",
            "_model_name": "ProgressStyleModel",
            "_view_count": null,
            "_view_module": "@jupyter-widgets/base",
            "_view_module_version": "1.2.0",
            "_view_name": "StyleView",
            "bar_color": null,
            "description_width": ""
          }
        },
        "2fe986d1067446bf9afc5926ef4c1e91": {
          "model_module": "@jupyter-widgets/controls",
          "model_module_version": "1.5.0",
          "model_name": "HBoxModel",
          "state": {
            "_dom_classes": [],
            "_model_module": "@jupyter-widgets/controls",
            "_model_module_version": "1.5.0",
            "_model_name": "HBoxModel",
            "_view_count": null,
            "_view_module": "@jupyter-widgets/controls",
            "_view_module_version": "1.5.0",
            "_view_name": "HBoxView",
            "box_style": "",
            "children": [
              "IPY_MODEL_a10a8b0910a8485fa615baf528d8e469",
              "IPY_MODEL_086807b48c67476e954d5ecee0c04d45",
              "IPY_MODEL_bfcf08d0fe8341129282be4c1f267d6d"
            ],
            "layout": "IPY_MODEL_e73e9fbb81944d58b52733c01388bef9"
          }
        },
        "343590cb4f644db2a3bb59c8dac9e619": {
          "model_module": "@jupyter-widgets/base",
          "model_module_version": "1.2.0",
          "model_name": "LayoutModel",
          "state": {
            "_model_module": "@jupyter-widgets/base",
            "_model_module_version": "1.2.0",
            "_model_name": "LayoutModel",
            "_view_count": null,
            "_view_module": "@jupyter-widgets/base",
            "_view_module_version": "1.2.0",
            "_view_name": "LayoutView",
            "align_content": null,
            "align_items": null,
            "align_self": null,
            "border": null,
            "bottom": null,
            "display": null,
            "flex": null,
            "flex_flow": null,
            "grid_area": null,
            "grid_auto_columns": null,
            "grid_auto_flow": null,
            "grid_auto_rows": null,
            "grid_column": null,
            "grid_gap": null,
            "grid_row": null,
            "grid_template_areas": null,
            "grid_template_columns": null,
            "grid_template_rows": null,
            "height": null,
            "justify_content": null,
            "justify_items": null,
            "left": null,
            "margin": null,
            "max_height": null,
            "max_width": null,
            "min_height": null,
            "min_width": null,
            "object_fit": null,
            "object_position": null,
            "order": null,
            "overflow": null,
            "overflow_x": null,
            "overflow_y": null,
            "padding": null,
            "right": null,
            "top": null,
            "visibility": null,
            "width": null
          }
        },
        "34ed354e58b3421586d84ca4c55846cd": {
          "model_module": "@jupyter-widgets/base",
          "model_module_version": "1.2.0",
          "model_name": "LayoutModel",
          "state": {
            "_model_module": "@jupyter-widgets/base",
            "_model_module_version": "1.2.0",
            "_model_name": "LayoutModel",
            "_view_count": null,
            "_view_module": "@jupyter-widgets/base",
            "_view_module_version": "1.2.0",
            "_view_name": "LayoutView",
            "align_content": null,
            "align_items": null,
            "align_self": null,
            "border": null,
            "bottom": null,
            "display": null,
            "flex": null,
            "flex_flow": null,
            "grid_area": null,
            "grid_auto_columns": null,
            "grid_auto_flow": null,
            "grid_auto_rows": null,
            "grid_column": null,
            "grid_gap": null,
            "grid_row": null,
            "grid_template_areas": null,
            "grid_template_columns": null,
            "grid_template_rows": null,
            "height": null,
            "justify_content": null,
            "justify_items": null,
            "left": null,
            "margin": null,
            "max_height": null,
            "max_width": null,
            "min_height": null,
            "min_width": null,
            "object_fit": null,
            "object_position": null,
            "order": null,
            "overflow": null,
            "overflow_x": null,
            "overflow_y": null,
            "padding": null,
            "right": null,
            "top": null,
            "visibility": null,
            "width": null
          }
        },
        "3c10b95fd8214629a927cb18c94fa849": {
          "model_module": "@jupyter-widgets/base",
          "model_module_version": "1.2.0",
          "model_name": "LayoutModel",
          "state": {
            "_model_module": "@jupyter-widgets/base",
            "_model_module_version": "1.2.0",
            "_model_name": "LayoutModel",
            "_view_count": null,
            "_view_module": "@jupyter-widgets/base",
            "_view_module_version": "1.2.0",
            "_view_name": "LayoutView",
            "align_content": null,
            "align_items": null,
            "align_self": null,
            "border": null,
            "bottom": null,
            "display": null,
            "flex": null,
            "flex_flow": null,
            "grid_area": null,
            "grid_auto_columns": null,
            "grid_auto_flow": null,
            "grid_auto_rows": null,
            "grid_column": null,
            "grid_gap": null,
            "grid_row": null,
            "grid_template_areas": null,
            "grid_template_columns": null,
            "grid_template_rows": null,
            "height": null,
            "justify_content": null,
            "justify_items": null,
            "left": null,
            "margin": null,
            "max_height": null,
            "max_width": null,
            "min_height": null,
            "min_width": null,
            "object_fit": null,
            "object_position": null,
            "order": null,
            "overflow": null,
            "overflow_x": null,
            "overflow_y": null,
            "padding": null,
            "right": null,
            "top": null,
            "visibility": null,
            "width": null
          }
        },
        "3e85be90329f43d4b55de9e83201c414": {
          "model_module": "@jupyter-widgets/controls",
          "model_module_version": "1.5.0",
          "model_name": "HBoxModel",
          "state": {
            "_dom_classes": [],
            "_model_module": "@jupyter-widgets/controls",
            "_model_module_version": "1.5.0",
            "_model_name": "HBoxModel",
            "_view_count": null,
            "_view_module": "@jupyter-widgets/controls",
            "_view_module_version": "1.5.0",
            "_view_name": "HBoxView",
            "box_style": "",
            "children": [
              "IPY_MODEL_8191c8cf8d9149efa64a6d235c593faa",
              "IPY_MODEL_651b1c2392aa4abb95f8ed6e3be9bdff",
              "IPY_MODEL_834479966ffd44ef97c292e5b7f9305c"
            ],
            "layout": "IPY_MODEL_34ed354e58b3421586d84ca4c55846cd"
          }
        },
        "4edd4f3695284feaab1d7b627841c414": {
          "model_module": "@jupyter-widgets/controls",
          "model_module_version": "1.5.0",
          "model_name": "DescriptionStyleModel",
          "state": {
            "_model_module": "@jupyter-widgets/controls",
            "_model_module_version": "1.5.0",
            "_model_name": "DescriptionStyleModel",
            "_view_count": null,
            "_view_module": "@jupyter-widgets/base",
            "_view_module_version": "1.2.0",
            "_view_name": "StyleView",
            "description_width": ""
          }
        },
        "5d3b824ca8fc41ca935b4c01385d0662": {
          "model_module": "@jupyter-widgets/controls",
          "model_module_version": "1.5.0",
          "model_name": "DescriptionStyleModel",
          "state": {
            "_model_module": "@jupyter-widgets/controls",
            "_model_module_version": "1.5.0",
            "_model_name": "DescriptionStyleModel",
            "_view_count": null,
            "_view_module": "@jupyter-widgets/base",
            "_view_module_version": "1.2.0",
            "_view_name": "StyleView",
            "description_width": ""
          }
        },
        "5e119ed244604b868df58c84040a0a8d": {
          "model_module": "@jupyter-widgets/base",
          "model_module_version": "1.2.0",
          "model_name": "LayoutModel",
          "state": {
            "_model_module": "@jupyter-widgets/base",
            "_model_module_version": "1.2.0",
            "_model_name": "LayoutModel",
            "_view_count": null,
            "_view_module": "@jupyter-widgets/base",
            "_view_module_version": "1.2.0",
            "_view_name": "LayoutView",
            "align_content": null,
            "align_items": null,
            "align_self": null,
            "border": null,
            "bottom": null,
            "display": null,
            "flex": null,
            "flex_flow": null,
            "grid_area": null,
            "grid_auto_columns": null,
            "grid_auto_flow": null,
            "grid_auto_rows": null,
            "grid_column": null,
            "grid_gap": null,
            "grid_row": null,
            "grid_template_areas": null,
            "grid_template_columns": null,
            "grid_template_rows": null,
            "height": null,
            "justify_content": null,
            "justify_items": null,
            "left": null,
            "margin": null,
            "max_height": null,
            "max_width": null,
            "min_height": null,
            "min_width": null,
            "object_fit": null,
            "object_position": null,
            "order": null,
            "overflow": null,
            "overflow_x": null,
            "overflow_y": null,
            "padding": null,
            "right": null,
            "top": null,
            "visibility": null,
            "width": null
          }
        },
        "651b1c2392aa4abb95f8ed6e3be9bdff": {
          "model_module": "@jupyter-widgets/controls",
          "model_module_version": "1.5.0",
          "model_name": "FloatProgressModel",
          "state": {
            "_dom_classes": [],
            "_model_module": "@jupyter-widgets/controls",
            "_model_module_version": "1.5.0",
            "_model_name": "FloatProgressModel",
            "_view_count": null,
            "_view_module": "@jupyter-widgets/controls",
            "_view_module_version": "1.5.0",
            "_view_name": "ProgressView",
            "bar_style": "success",
            "description": "",
            "description_tooltip": null,
            "layout": "IPY_MODEL_25fd58734f224e9eb61262c93e4c81f0",
            "max": 20,
            "min": 0,
            "orientation": "horizontal",
            "style": "IPY_MODEL_e45e1802525f4621bcc0d04cb63fe248",
            "value": 20
          }
        },
        "6adb443f0cfb48579dbc2bbbd4fb3b18": {
          "model_module": "@jupyter-widgets/controls",
          "model_module_version": "1.5.0",
          "model_name": "DescriptionStyleModel",
          "state": {
            "_model_module": "@jupyter-widgets/controls",
            "_model_module_version": "1.5.0",
            "_model_name": "DescriptionStyleModel",
            "_view_count": null,
            "_view_module": "@jupyter-widgets/base",
            "_view_module_version": "1.2.0",
            "_view_name": "StyleView",
            "description_width": ""
          }
        },
        "6ca4d100e07243eeacf59135d6443aaf": {
          "model_module": "@jupyter-widgets/base",
          "model_module_version": "1.2.0",
          "model_name": "LayoutModel",
          "state": {
            "_model_module": "@jupyter-widgets/base",
            "_model_module_version": "1.2.0",
            "_model_name": "LayoutModel",
            "_view_count": null,
            "_view_module": "@jupyter-widgets/base",
            "_view_module_version": "1.2.0",
            "_view_name": "LayoutView",
            "align_content": null,
            "align_items": null,
            "align_self": null,
            "border": null,
            "bottom": null,
            "display": null,
            "flex": null,
            "flex_flow": null,
            "grid_area": null,
            "grid_auto_columns": null,
            "grid_auto_flow": null,
            "grid_auto_rows": null,
            "grid_column": null,
            "grid_gap": null,
            "grid_row": null,
            "grid_template_areas": null,
            "grid_template_columns": null,
            "grid_template_rows": null,
            "height": null,
            "justify_content": null,
            "justify_items": null,
            "left": null,
            "margin": null,
            "max_height": null,
            "max_width": null,
            "min_height": null,
            "min_width": null,
            "object_fit": null,
            "object_position": null,
            "order": null,
            "overflow": null,
            "overflow_x": null,
            "overflow_y": null,
            "padding": null,
            "right": null,
            "top": null,
            "visibility": null,
            "width": null
          }
        },
        "7730432302bb46b09aadf9f4e85a2a7c": {
          "model_module": "@jupyter-widgets/base",
          "model_module_version": "1.2.0",
          "model_name": "LayoutModel",
          "state": {
            "_model_module": "@jupyter-widgets/base",
            "_model_module_version": "1.2.0",
            "_model_name": "LayoutModel",
            "_view_count": null,
            "_view_module": "@jupyter-widgets/base",
            "_view_module_version": "1.2.0",
            "_view_name": "LayoutView",
            "align_content": null,
            "align_items": null,
            "align_self": null,
            "border": null,
            "bottom": null,
            "display": null,
            "flex": null,
            "flex_flow": null,
            "grid_area": null,
            "grid_auto_columns": null,
            "grid_auto_flow": null,
            "grid_auto_rows": null,
            "grid_column": null,
            "grid_gap": null,
            "grid_row": null,
            "grid_template_areas": null,
            "grid_template_columns": null,
            "grid_template_rows": null,
            "height": null,
            "justify_content": null,
            "justify_items": null,
            "left": null,
            "margin": null,
            "max_height": null,
            "max_width": null,
            "min_height": null,
            "min_width": null,
            "object_fit": null,
            "object_position": null,
            "order": null,
            "overflow": null,
            "overflow_x": null,
            "overflow_y": null,
            "padding": null,
            "right": null,
            "top": null,
            "visibility": null,
            "width": null
          }
        },
        "7e4e2e8ca7314b8fa7c69d135840e4f1": {
          "model_module": "@jupyter-widgets/controls",
          "model_module_version": "1.5.0",
          "model_name": "HTMLModel",
          "state": {
            "_dom_classes": [],
            "_model_module": "@jupyter-widgets/controls",
            "_model_module_version": "1.5.0",
            "_model_name": "HTMLModel",
            "_view_count": null,
            "_view_module": "@jupyter-widgets/controls",
            "_view_module_version": "1.5.0",
            "_view_name": "HTMLView",
            "description": "",
            "description_tooltip": null,
            "layout": "IPY_MODEL_25bb6f4a08e44c688962d8f8309652f4",
            "placeholder": "​",
            "style": "IPY_MODEL_4edd4f3695284feaab1d7b627841c414",
            "value": "Epoch:: 100%"
          }
        },
        "8057b810695d48e08e37f310e1d4d218": {
          "model_module": "@jupyter-widgets/controls",
          "model_module_version": "1.5.0",
          "model_name": "DescriptionStyleModel",
          "state": {
            "_model_module": "@jupyter-widgets/controls",
            "_model_module_version": "1.5.0",
            "_model_name": "DescriptionStyleModel",
            "_view_count": null,
            "_view_module": "@jupyter-widgets/base",
            "_view_module_version": "1.2.0",
            "_view_name": "StyleView",
            "description_width": ""
          }
        },
        "81528a8b2e434408aa7a2841062e6539": {
          "model_module": "@jupyter-widgets/controls",
          "model_module_version": "1.5.0",
          "model_name": "HTMLModel",
          "state": {
            "_dom_classes": [],
            "_model_module": "@jupyter-widgets/controls",
            "_model_module_version": "1.5.0",
            "_model_name": "HTMLModel",
            "_view_count": null,
            "_view_module": "@jupyter-widgets/controls",
            "_view_module_version": "1.5.0",
            "_view_name": "HTMLView",
            "description": "",
            "description_tooltip": null,
            "layout": "IPY_MODEL_047d717c6aad4be4878c60c21f775b88",
            "placeholder": "​",
            "style": "IPY_MODEL_b3e80f05aa9847ccbd8c461d15005cb1",
            "value": " 17/20 [1:13:53&lt;12:56, 258.85s/it]"
          }
        },
        "8191c8cf8d9149efa64a6d235c593faa": {
          "model_module": "@jupyter-widgets/controls",
          "model_module_version": "1.5.0",
          "model_name": "HTMLModel",
          "state": {
            "_dom_classes": [],
            "_model_module": "@jupyter-widgets/controls",
            "_model_module_version": "1.5.0",
            "_model_name": "HTMLModel",
            "_view_count": null,
            "_view_module": "@jupyter-widgets/controls",
            "_view_module_version": "1.5.0",
            "_view_name": "HTMLView",
            "description": "",
            "description_tooltip": null,
            "layout": "IPY_MODEL_b44c9a031a684b288a60b8f10a4c7012",
            "placeholder": "​",
            "style": "IPY_MODEL_84f79c5d851f4d5b93abcfaf16d705ae",
            "value": "Epoch:: 100%"
          }
        },
        "834479966ffd44ef97c292e5b7f9305c": {
          "model_module": "@jupyter-widgets/controls",
          "model_module_version": "1.5.0",
          "model_name": "HTMLModel",
          "state": {
            "_dom_classes": [],
            "_model_module": "@jupyter-widgets/controls",
            "_model_module_version": "1.5.0",
            "_model_name": "HTMLModel",
            "_view_count": null,
            "_view_module": "@jupyter-widgets/controls",
            "_view_module_version": "1.5.0",
            "_view_name": "HTMLView",
            "description": "",
            "description_tooltip": null,
            "layout": "IPY_MODEL_7730432302bb46b09aadf9f4e85a2a7c",
            "placeholder": "​",
            "style": "IPY_MODEL_c027ecb95d0945d1bd23ea76b9412805",
            "value": " 20/20 [48:03&lt;00:00, 144.99s/it]"
          }
        },
        "84f79c5d851f4d5b93abcfaf16d705ae": {
          "model_module": "@jupyter-widgets/controls",
          "model_module_version": "1.5.0",
          "model_name": "DescriptionStyleModel",
          "state": {
            "_model_module": "@jupyter-widgets/controls",
            "_model_module_version": "1.5.0",
            "_model_name": "DescriptionStyleModel",
            "_view_count": null,
            "_view_module": "@jupyter-widgets/base",
            "_view_module_version": "1.2.0",
            "_view_name": "StyleView",
            "description_width": ""
          }
        },
        "86febb8d303a4f108badd75474403de5": {
          "model_module": "@jupyter-widgets/base",
          "model_module_version": "1.2.0",
          "model_name": "LayoutModel",
          "state": {
            "_model_module": "@jupyter-widgets/base",
            "_model_module_version": "1.2.0",
            "_model_name": "LayoutModel",
            "_view_count": null,
            "_view_module": "@jupyter-widgets/base",
            "_view_module_version": "1.2.0",
            "_view_name": "LayoutView",
            "align_content": null,
            "align_items": null,
            "align_self": null,
            "border": null,
            "bottom": null,
            "display": null,
            "flex": null,
            "flex_flow": null,
            "grid_area": null,
            "grid_auto_columns": null,
            "grid_auto_flow": null,
            "grid_auto_rows": null,
            "grid_column": null,
            "grid_gap": null,
            "grid_row": null,
            "grid_template_areas": null,
            "grid_template_columns": null,
            "grid_template_rows": null,
            "height": null,
            "justify_content": null,
            "justify_items": null,
            "left": null,
            "margin": null,
            "max_height": null,
            "max_width": null,
            "min_height": null,
            "min_width": null,
            "object_fit": null,
            "object_position": null,
            "order": null,
            "overflow": null,
            "overflow_x": null,
            "overflow_y": null,
            "padding": null,
            "right": null,
            "top": null,
            "visibility": null,
            "width": null
          }
        },
        "8bf7a3f40d9949ab822e0f3273e6605b": {
          "model_module": "@jupyter-widgets/controls",
          "model_module_version": "1.5.0",
          "model_name": "HBoxModel",
          "state": {
            "_dom_classes": [],
            "_model_module": "@jupyter-widgets/controls",
            "_model_module_version": "1.5.0",
            "_model_name": "HBoxModel",
            "_view_count": null,
            "_view_module": "@jupyter-widgets/controls",
            "_view_module_version": "1.5.0",
            "_view_name": "HBoxView",
            "box_style": "",
            "children": [
              "IPY_MODEL_7e4e2e8ca7314b8fa7c69d135840e4f1",
              "IPY_MODEL_0f87fa5617da49038e4091a1eac6dbbb",
              "IPY_MODEL_924cec578f9f4eb7ab00915d59f57419"
            ],
            "layout": "IPY_MODEL_075f7ad5fb004a9f905858a3ba419751"
          }
        },
        "8e0bdc8f51fe46e385d22be3b32422c2": {
          "model_module": "@jupyter-widgets/controls",
          "model_module_version": "1.5.0",
          "model_name": "HTMLModel",
          "state": {
            "_dom_classes": [],
            "_model_module": "@jupyter-widgets/controls",
            "_model_module_version": "1.5.0",
            "_model_name": "HTMLModel",
            "_view_count": null,
            "_view_module": "@jupyter-widgets/controls",
            "_view_module_version": "1.5.0",
            "_view_name": "HTMLView",
            "description": "",
            "description_tooltip": null,
            "layout": "IPY_MODEL_9bc5a1c5e1c34b4db869f41a889322c3",
            "placeholder": "​",
            "style": "IPY_MODEL_8057b810695d48e08e37f310e1d4d218",
            "value": "Epoch:: 100%"
          }
        },
        "924cec578f9f4eb7ab00915d59f57419": {
          "model_module": "@jupyter-widgets/controls",
          "model_module_version": "1.5.0",
          "model_name": "HTMLModel",
          "state": {
            "_dom_classes": [],
            "_model_module": "@jupyter-widgets/controls",
            "_model_module_version": "1.5.0",
            "_model_name": "HTMLModel",
            "_view_count": null,
            "_view_module": "@jupyter-widgets/controls",
            "_view_module_version": "1.5.0",
            "_view_name": "HTMLView",
            "description": "",
            "description_tooltip": null,
            "layout": "IPY_MODEL_fe5c59849beb4656bc3b007b04338ca5",
            "placeholder": "​",
            "style": "IPY_MODEL_ac9ad1cc0f3748f5997cb97e8c152256",
            "value": " 12/12 [34:36&lt;00:00, 170.32s/it]"
          }
        },
        "92f289cab90a4ab6a6fb27c716a2bc48": {
          "model_module": "@jupyter-widgets/controls",
          "model_module_version": "1.5.0",
          "model_name": "ProgressStyleModel",
          "state": {
            "_model_module": "@jupyter-widgets/controls",
            "_model_module_version": "1.5.0",
            "_model_name": "ProgressStyleModel",
            "_view_count": null,
            "_view_module": "@jupyter-widgets/base",
            "_view_module_version": "1.2.0",
            "_view_name": "StyleView",
            "bar_color": null,
            "description_width": ""
          }
        },
        "94b83fc17980457faef956316274f001": {
          "model_module": "@jupyter-widgets/controls",
          "model_module_version": "1.5.0",
          "model_name": "HTMLModel",
          "state": {
            "_dom_classes": [],
            "_model_module": "@jupyter-widgets/controls",
            "_model_module_version": "1.5.0",
            "_model_name": "HTMLModel",
            "_view_count": null,
            "_view_module": "@jupyter-widgets/controls",
            "_view_module_version": "1.5.0",
            "_view_name": "HTMLView",
            "description": "",
            "description_tooltip": null,
            "layout": "IPY_MODEL_6ca4d100e07243eeacf59135d6443aaf",
            "placeholder": "​",
            "style": "IPY_MODEL_5d3b824ca8fc41ca935b4c01385d0662",
            "value": " 12/12 [1:06:44&lt;00:00, 331.89s/it]"
          }
        },
        "9bc5a1c5e1c34b4db869f41a889322c3": {
          "model_module": "@jupyter-widgets/base",
          "model_module_version": "1.2.0",
          "model_name": "LayoutModel",
          "state": {
            "_model_module": "@jupyter-widgets/base",
            "_model_module_version": "1.2.0",
            "_model_name": "LayoutModel",
            "_view_count": null,
            "_view_module": "@jupyter-widgets/base",
            "_view_module_version": "1.2.0",
            "_view_name": "LayoutView",
            "align_content": null,
            "align_items": null,
            "align_self": null,
            "border": null,
            "bottom": null,
            "display": null,
            "flex": null,
            "flex_flow": null,
            "grid_area": null,
            "grid_auto_columns": null,
            "grid_auto_flow": null,
            "grid_auto_rows": null,
            "grid_column": null,
            "grid_gap": null,
            "grid_row": null,
            "grid_template_areas": null,
            "grid_template_columns": null,
            "grid_template_rows": null,
            "height": null,
            "justify_content": null,
            "justify_items": null,
            "left": null,
            "margin": null,
            "max_height": null,
            "max_width": null,
            "min_height": null,
            "min_width": null,
            "object_fit": null,
            "object_position": null,
            "order": null,
            "overflow": null,
            "overflow_x": null,
            "overflow_y": null,
            "padding": null,
            "right": null,
            "top": null,
            "visibility": null,
            "width": null
          }
        },
        "a10a8b0910a8485fa615baf528d8e469": {
          "model_module": "@jupyter-widgets/controls",
          "model_module_version": "1.5.0",
          "model_name": "HTMLModel",
          "state": {
            "_dom_classes": [],
            "_model_module": "@jupyter-widgets/controls",
            "_model_module_version": "1.5.0",
            "_model_name": "HTMLModel",
            "_view_count": null,
            "_view_module": "@jupyter-widgets/controls",
            "_view_module_version": "1.5.0",
            "_view_name": "HTMLView",
            "description": "",
            "description_tooltip": null,
            "layout": "IPY_MODEL_5e119ed244604b868df58c84040a0a8d",
            "placeholder": "​",
            "style": "IPY_MODEL_a1aaf17788f742fa9a1e9aa6241aa9c4",
            "value": "Epoch:: 100%"
          }
        },
        "a1aaf17788f742fa9a1e9aa6241aa9c4": {
          "model_module": "@jupyter-widgets/controls",
          "model_module_version": "1.5.0",
          "model_name": "DescriptionStyleModel",
          "state": {
            "_model_module": "@jupyter-widgets/controls",
            "_model_module_version": "1.5.0",
            "_model_name": "DescriptionStyleModel",
            "_view_count": null,
            "_view_module": "@jupyter-widgets/base",
            "_view_module_version": "1.2.0",
            "_view_name": "StyleView",
            "description_width": ""
          }
        },
        "a40f493aea41493a8d0c3e52e68f4979": {
          "model_module": "@jupyter-widgets/controls",
          "model_module_version": "1.5.0",
          "model_name": "DescriptionStyleModel",
          "state": {
            "_model_module": "@jupyter-widgets/controls",
            "_model_module_version": "1.5.0",
            "_model_name": "DescriptionStyleModel",
            "_view_count": null,
            "_view_module": "@jupyter-widgets/base",
            "_view_module_version": "1.2.0",
            "_view_name": "StyleView",
            "description_width": ""
          }
        },
        "a48360e786474e05810ee0088d2d42cf": {
          "model_module": "@jupyter-widgets/controls",
          "model_module_version": "1.5.0",
          "model_name": "HTMLModel",
          "state": {
            "_dom_classes": [],
            "_model_module": "@jupyter-widgets/controls",
            "_model_module_version": "1.5.0",
            "_model_name": "HTMLModel",
            "_view_count": null,
            "_view_module": "@jupyter-widgets/controls",
            "_view_module_version": "1.5.0",
            "_view_name": "HTMLView",
            "description": "",
            "description_tooltip": null,
            "layout": "IPY_MODEL_86febb8d303a4f108badd75474403de5",
            "placeholder": "​",
            "style": "IPY_MODEL_6adb443f0cfb48579dbc2bbbd4fb3b18",
            "value": "Epoch::  85%"
          }
        },
        "a864ae5ab0f4404eb2a4fe973f6336dd": {
          "model_module": "@jupyter-widgets/controls",
          "model_module_version": "1.5.0",
          "model_name": "ProgressStyleModel",
          "state": {
            "_model_module": "@jupyter-widgets/controls",
            "_model_module_version": "1.5.0",
            "_model_name": "ProgressStyleModel",
            "_view_count": null,
            "_view_module": "@jupyter-widgets/base",
            "_view_module_version": "1.2.0",
            "_view_name": "StyleView",
            "bar_color": null,
            "description_width": ""
          }
        },
        "ac9ad1cc0f3748f5997cb97e8c152256": {
          "model_module": "@jupyter-widgets/controls",
          "model_module_version": "1.5.0",
          "model_name": "DescriptionStyleModel",
          "state": {
            "_model_module": "@jupyter-widgets/controls",
            "_model_module_version": "1.5.0",
            "_model_name": "DescriptionStyleModel",
            "_view_count": null,
            "_view_module": "@jupyter-widgets/base",
            "_view_module_version": "1.2.0",
            "_view_name": "StyleView",
            "description_width": ""
          }
        },
        "b3e80f05aa9847ccbd8c461d15005cb1": {
          "model_module": "@jupyter-widgets/controls",
          "model_module_version": "1.5.0",
          "model_name": "DescriptionStyleModel",
          "state": {
            "_model_module": "@jupyter-widgets/controls",
            "_model_module_version": "1.5.0",
            "_model_name": "DescriptionStyleModel",
            "_view_count": null,
            "_view_module": "@jupyter-widgets/base",
            "_view_module_version": "1.2.0",
            "_view_name": "StyleView",
            "description_width": ""
          }
        },
        "b44c9a031a684b288a60b8f10a4c7012": {
          "model_module": "@jupyter-widgets/base",
          "model_module_version": "1.2.0",
          "model_name": "LayoutModel",
          "state": {
            "_model_module": "@jupyter-widgets/base",
            "_model_module_version": "1.2.0",
            "_model_name": "LayoutModel",
            "_view_count": null,
            "_view_module": "@jupyter-widgets/base",
            "_view_module_version": "1.2.0",
            "_view_name": "LayoutView",
            "align_content": null,
            "align_items": null,
            "align_self": null,
            "border": null,
            "bottom": null,
            "display": null,
            "flex": null,
            "flex_flow": null,
            "grid_area": null,
            "grid_auto_columns": null,
            "grid_auto_flow": null,
            "grid_auto_rows": null,
            "grid_column": null,
            "grid_gap": null,
            "grid_row": null,
            "grid_template_areas": null,
            "grid_template_columns": null,
            "grid_template_rows": null,
            "height": null,
            "justify_content": null,
            "justify_items": null,
            "left": null,
            "margin": null,
            "max_height": null,
            "max_width": null,
            "min_height": null,
            "min_width": null,
            "object_fit": null,
            "object_position": null,
            "order": null,
            "overflow": null,
            "overflow_x": null,
            "overflow_y": null,
            "padding": null,
            "right": null,
            "top": null,
            "visibility": null,
            "width": null
          }
        },
        "bfcf08d0fe8341129282be4c1f267d6d": {
          "model_module": "@jupyter-widgets/controls",
          "model_module_version": "1.5.0",
          "model_name": "HTMLModel",
          "state": {
            "_dom_classes": [],
            "_model_module": "@jupyter-widgets/controls",
            "_model_module_version": "1.5.0",
            "_model_name": "HTMLModel",
            "_view_count": null,
            "_view_module": "@jupyter-widgets/controls",
            "_view_module_version": "1.5.0",
            "_view_name": "HTMLView",
            "description": "",
            "description_tooltip": null,
            "layout": "IPY_MODEL_f5949e80e847407589552922264e87c7",
            "placeholder": "​",
            "style": "IPY_MODEL_a40f493aea41493a8d0c3e52e68f4979",
            "value": " 12/12 [40:19&lt;00:00, 200.79s/it]"
          }
        },
        "bfdebe4f9bdc4811bbad18523d10633c": {
          "model_module": "@jupyter-widgets/controls",
          "model_module_version": "1.5.0",
          "model_name": "FloatProgressModel",
          "state": {
            "_dom_classes": [],
            "_model_module": "@jupyter-widgets/controls",
            "_model_module_version": "1.5.0",
            "_model_name": "FloatProgressModel",
            "_view_count": null,
            "_view_module": "@jupyter-widgets/controls",
            "_view_module_version": "1.5.0",
            "_view_name": "ProgressView",
            "bar_style": "",
            "description": "",
            "description_tooltip": null,
            "layout": "IPY_MODEL_daacfd7e2f7342a7a2c83e4e7dbc275a",
            "max": 20,
            "min": 0,
            "orientation": "horizontal",
            "style": "IPY_MODEL_2c244622606440f29b3b7ad9d76083cd",
            "value": 17
          }
        },
        "c020fe4acce246dc888e53f7d1905666": {
          "model_module": "@jupyter-widgets/controls",
          "model_module_version": "1.5.0",
          "model_name": "HBoxModel",
          "state": {
            "_dom_classes": [],
            "_model_module": "@jupyter-widgets/controls",
            "_model_module_version": "1.5.0",
            "_model_name": "HBoxModel",
            "_view_count": null,
            "_view_module": "@jupyter-widgets/controls",
            "_view_module_version": "1.5.0",
            "_view_name": "HBoxView",
            "box_style": "",
            "children": [
              "IPY_MODEL_a48360e786474e05810ee0088d2d42cf",
              "IPY_MODEL_bfdebe4f9bdc4811bbad18523d10633c",
              "IPY_MODEL_81528a8b2e434408aa7a2841062e6539"
            ],
            "layout": "IPY_MODEL_343590cb4f644db2a3bb59c8dac9e619"
          }
        },
        "c027ecb95d0945d1bd23ea76b9412805": {
          "model_module": "@jupyter-widgets/controls",
          "model_module_version": "1.5.0",
          "model_name": "DescriptionStyleModel",
          "state": {
            "_model_module": "@jupyter-widgets/controls",
            "_model_module_version": "1.5.0",
            "_model_name": "DescriptionStyleModel",
            "_view_count": null,
            "_view_module": "@jupyter-widgets/base",
            "_view_module_version": "1.2.0",
            "_view_name": "StyleView",
            "description_width": ""
          }
        },
        "daacfd7e2f7342a7a2c83e4e7dbc275a": {
          "model_module": "@jupyter-widgets/base",
          "model_module_version": "1.2.0",
          "model_name": "LayoutModel",
          "state": {
            "_model_module": "@jupyter-widgets/base",
            "_model_module_version": "1.2.0",
            "_model_name": "LayoutModel",
            "_view_count": null,
            "_view_module": "@jupyter-widgets/base",
            "_view_module_version": "1.2.0",
            "_view_name": "LayoutView",
            "align_content": null,
            "align_items": null,
            "align_self": null,
            "border": null,
            "bottom": null,
            "display": null,
            "flex": null,
            "flex_flow": null,
            "grid_area": null,
            "grid_auto_columns": null,
            "grid_auto_flow": null,
            "grid_auto_rows": null,
            "grid_column": null,
            "grid_gap": null,
            "grid_row": null,
            "grid_template_areas": null,
            "grid_template_columns": null,
            "grid_template_rows": null,
            "height": null,
            "justify_content": null,
            "justify_items": null,
            "left": null,
            "margin": null,
            "max_height": null,
            "max_width": null,
            "min_height": null,
            "min_width": null,
            "object_fit": null,
            "object_position": null,
            "order": null,
            "overflow": null,
            "overflow_x": null,
            "overflow_y": null,
            "padding": null,
            "right": null,
            "top": null,
            "visibility": null,
            "width": null
          }
        },
        "df7ca6bc69b6461d911bb048d7b125b8": {
          "model_module": "@jupyter-widgets/controls",
          "model_module_version": "1.5.0",
          "model_name": "FloatProgressModel",
          "state": {
            "_dom_classes": [],
            "_model_module": "@jupyter-widgets/controls",
            "_model_module_version": "1.5.0",
            "_model_name": "FloatProgressModel",
            "_view_count": null,
            "_view_module": "@jupyter-widgets/controls",
            "_view_module_version": "1.5.0",
            "_view_name": "ProgressView",
            "bar_style": "success",
            "description": "",
            "description_tooltip": null,
            "layout": "IPY_MODEL_3c10b95fd8214629a927cb18c94fa849",
            "max": 12,
            "min": 0,
            "orientation": "horizontal",
            "style": "IPY_MODEL_17841cd748d94a72aa4180fc9d627200",
            "value": 12
          }
        },
        "e45e1802525f4621bcc0d04cb63fe248": {
          "model_module": "@jupyter-widgets/controls",
          "model_module_version": "1.5.0",
          "model_name": "ProgressStyleModel",
          "state": {
            "_model_module": "@jupyter-widgets/controls",
            "_model_module_version": "1.5.0",
            "_model_name": "ProgressStyleModel",
            "_view_count": null,
            "_view_module": "@jupyter-widgets/base",
            "_view_module_version": "1.2.0",
            "_view_name": "StyleView",
            "bar_color": null,
            "description_width": ""
          }
        },
        "e73e9fbb81944d58b52733c01388bef9": {
          "model_module": "@jupyter-widgets/base",
          "model_module_version": "1.2.0",
          "model_name": "LayoutModel",
          "state": {
            "_model_module": "@jupyter-widgets/base",
            "_model_module_version": "1.2.0",
            "_model_name": "LayoutModel",
            "_view_count": null,
            "_view_module": "@jupyter-widgets/base",
            "_view_module_version": "1.2.0",
            "_view_name": "LayoutView",
            "align_content": null,
            "align_items": null,
            "align_self": null,
            "border": null,
            "bottom": null,
            "display": null,
            "flex": null,
            "flex_flow": null,
            "grid_area": null,
            "grid_auto_columns": null,
            "grid_auto_flow": null,
            "grid_auto_rows": null,
            "grid_column": null,
            "grid_gap": null,
            "grid_row": null,
            "grid_template_areas": null,
            "grid_template_columns": null,
            "grid_template_rows": null,
            "height": null,
            "justify_content": null,
            "justify_items": null,
            "left": null,
            "margin": null,
            "max_height": null,
            "max_width": null,
            "min_height": null,
            "min_width": null,
            "object_fit": null,
            "object_position": null,
            "order": null,
            "overflow": null,
            "overflow_x": null,
            "overflow_y": null,
            "padding": null,
            "right": null,
            "top": null,
            "visibility": null,
            "width": null
          }
        },
        "e88b71b958e04dbdb31b2d2323ff47cb": {
          "model_module": "@jupyter-widgets/base",
          "model_module_version": "1.2.0",
          "model_name": "LayoutModel",
          "state": {
            "_model_module": "@jupyter-widgets/base",
            "_model_module_version": "1.2.0",
            "_model_name": "LayoutModel",
            "_view_count": null,
            "_view_module": "@jupyter-widgets/base",
            "_view_module_version": "1.2.0",
            "_view_name": "LayoutView",
            "align_content": null,
            "align_items": null,
            "align_self": null,
            "border": null,
            "bottom": null,
            "display": null,
            "flex": null,
            "flex_flow": null,
            "grid_area": null,
            "grid_auto_columns": null,
            "grid_auto_flow": null,
            "grid_auto_rows": null,
            "grid_column": null,
            "grid_gap": null,
            "grid_row": null,
            "grid_template_areas": null,
            "grid_template_columns": null,
            "grid_template_rows": null,
            "height": null,
            "justify_content": null,
            "justify_items": null,
            "left": null,
            "margin": null,
            "max_height": null,
            "max_width": null,
            "min_height": null,
            "min_width": null,
            "object_fit": null,
            "object_position": null,
            "order": null,
            "overflow": null,
            "overflow_x": null,
            "overflow_y": null,
            "padding": null,
            "right": null,
            "top": null,
            "visibility": null,
            "width": null
          }
        },
        "f474bbc0088d427899b57b27dedc38e5": {
          "model_module": "@jupyter-widgets/base",
          "model_module_version": "1.2.0",
          "model_name": "LayoutModel",
          "state": {
            "_model_module": "@jupyter-widgets/base",
            "_model_module_version": "1.2.0",
            "_model_name": "LayoutModel",
            "_view_count": null,
            "_view_module": "@jupyter-widgets/base",
            "_view_module_version": "1.2.0",
            "_view_name": "LayoutView",
            "align_content": null,
            "align_items": null,
            "align_self": null,
            "border": null,
            "bottom": null,
            "display": null,
            "flex": null,
            "flex_flow": null,
            "grid_area": null,
            "grid_auto_columns": null,
            "grid_auto_flow": null,
            "grid_auto_rows": null,
            "grid_column": null,
            "grid_gap": null,
            "grid_row": null,
            "grid_template_areas": null,
            "grid_template_columns": null,
            "grid_template_rows": null,
            "height": null,
            "justify_content": null,
            "justify_items": null,
            "left": null,
            "margin": null,
            "max_height": null,
            "max_width": null,
            "min_height": null,
            "min_width": null,
            "object_fit": null,
            "object_position": null,
            "order": null,
            "overflow": null,
            "overflow_x": null,
            "overflow_y": null,
            "padding": null,
            "right": null,
            "top": null,
            "visibility": null,
            "width": null
          }
        },
        "f5949e80e847407589552922264e87c7": {
          "model_module": "@jupyter-widgets/base",
          "model_module_version": "1.2.0",
          "model_name": "LayoutModel",
          "state": {
            "_model_module": "@jupyter-widgets/base",
            "_model_module_version": "1.2.0",
            "_model_name": "LayoutModel",
            "_view_count": null,
            "_view_module": "@jupyter-widgets/base",
            "_view_module_version": "1.2.0",
            "_view_name": "LayoutView",
            "align_content": null,
            "align_items": null,
            "align_self": null,
            "border": null,
            "bottom": null,
            "display": null,
            "flex": null,
            "flex_flow": null,
            "grid_area": null,
            "grid_auto_columns": null,
            "grid_auto_flow": null,
            "grid_auto_rows": null,
            "grid_column": null,
            "grid_gap": null,
            "grid_row": null,
            "grid_template_areas": null,
            "grid_template_columns": null,
            "grid_template_rows": null,
            "height": null,
            "justify_content": null,
            "justify_items": null,
            "left": null,
            "margin": null,
            "max_height": null,
            "max_width": null,
            "min_height": null,
            "min_width": null,
            "object_fit": null,
            "object_position": null,
            "order": null,
            "overflow": null,
            "overflow_x": null,
            "overflow_y": null,
            "padding": null,
            "right": null,
            "top": null,
            "visibility": null,
            "width": null
          }
        },
        "fe5c59849beb4656bc3b007b04338ca5": {
          "model_module": "@jupyter-widgets/base",
          "model_module_version": "1.2.0",
          "model_name": "LayoutModel",
          "state": {
            "_model_module": "@jupyter-widgets/base",
            "_model_module_version": "1.2.0",
            "_model_name": "LayoutModel",
            "_view_count": null,
            "_view_module": "@jupyter-widgets/base",
            "_view_module_version": "1.2.0",
            "_view_name": "LayoutView",
            "align_content": null,
            "align_items": null,
            "align_self": null,
            "border": null,
            "bottom": null,
            "display": null,
            "flex": null,
            "flex_flow": null,
            "grid_area": null,
            "grid_auto_columns": null,
            "grid_auto_flow": null,
            "grid_auto_rows": null,
            "grid_column": null,
            "grid_gap": null,
            "grid_row": null,
            "grid_template_areas": null,
            "grid_template_columns": null,
            "grid_template_rows": null,
            "height": null,
            "justify_content": null,
            "justify_items": null,
            "left": null,
            "margin": null,
            "max_height": null,
            "max_width": null,
            "min_height": null,
            "min_width": null,
            "object_fit": null,
            "object_position": null,
            "order": null,
            "overflow": null,
            "overflow_x": null,
            "overflow_y": null,
            "padding": null,
            "right": null,
            "top": null,
            "visibility": null,
            "width": null
          }
        }
      }
    }
  },
  "nbformat": 4,
  "nbformat_minor": 0
}
